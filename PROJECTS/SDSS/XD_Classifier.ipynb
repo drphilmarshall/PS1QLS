{
 "metadata": {
  "name": "",
  "signature": "sha256:f49a5e75bcc35fb334475d7fbafdbd56692d601d387708618afa867e55b5f3d5"
 },
 "nbformat": 3,
 "nbformat_minor": 0,
 "worksheets": [
  {
   "cells": [
    {
     "cell_type": "code",
     "collapsed": false,
     "input": [
      "%matplotlib inline\n",
      "import matplotlib.pyplot as plt\n",
      "import numpy as np\n",
      "from sklearn.cross_validation import train_test_split\n",
      "from astroML.density_estimation import XDGMM\n",
      "from astropy.io import fits\n",
      "import triangle\n",
      "dataLoc = '../../'\n",
      "\n",
      "labels = ['ID','mag_model_i','g-r', 'r-i', 'i-z', 'WISE1', 'WISE2' ]\n",
      "pQSO = np.loadtxt(dataLoc+'pQSO/pSDSScolmag.txt')[:,2:]\n",
      "lQSO = np.loadtxt(dataLoc+'lQSO/SDSScolmag.txt')[:,2:]\n",
      "sinQSO = np.loadtxt(dataLoc+'sinQSO/sSDSScolmag.txt')[:,2:]\n",
      "unlQSO = np.loadtxt(dataLoc+'unlQSO/nlSDSScolmag.txt')[:,2:]\n",
      "unlQSO[:,3:5] = -unlQSO[:,3:5] #bug in WISE magnitudes for this file\n",
      "\n",
      "duds = np.concatenate((pQSO,unlQSO,sinQSO),axis=0)\n",
      "data = np.concatenate((lQSO,duds),axis=0) #all sims\n",
      "truth = np.concatenate((np.ones(lQSO.shape[0]),np.zeros(duds.shape[0])),axis=0)\n",
      "\n",
      "numPts = data.shape[0]\n",
      "\n",
      "(lQSO_train, lQSO_test) = train_test_split(lQSO, test_size=0.25)\n",
      "(dud_train, dud_test) = train_test_split(duds, test_size=0.25)"
     ],
     "language": "python",
     "metadata": {},
     "outputs": [],
     "prompt_number": 1
    },
    {
     "cell_type": "code",
     "collapsed": false,
     "input": [
      "perturbingSigma = .1\n",
      "nFeatures=data.shape[1]\n",
      "z = zip(np.random.normal(scale=perturbingSigma,size=nFeatures),np.random.normal(scale=perturbingSigma,size=nFeatures))\n",
      "covmat = np.cov(np.round(np.array(z),decimals=4))\n",
      "covmat = perturbingSigma*np.array([[1 ,.1, .1, .1, .1],\n",
      " [.1, 1, .1, .1, .1],\n",
      " [.1, .1 ,1 ,.1, .1],\n",
      " [.1, .1 ,.1 ,1, .1],\n",
      " [.1, .1 ,.1, .1, 1]])\n",
      "\n",
      "\n",
      "print covmat\n",
      "print np.linalg.inv(covmat)\n",
      "print np.linalg.inv(np.linalg.inv(covmat))\n",
      "\n",
      "def noisify(data,covmat):\n",
      "\n",
      "    nFeatures = data.shape[1]\n",
      "\n",
      "    #perturb data\n",
      "    perturbations = np.random.multivariate_normal(np.zeros(nFeatures),covmat,size=data.shape[0])\n",
      "    noisyData = data + perturbations\n",
      "\n",
      "    #XD function needs to be delivered a list of covariance matrices\n",
      "    covmatlist = np.dstack((covmat,covmat))\n",
      "    while covmatlist.shape[2] < data.shape[0]:\n",
      "        covmatlist = np.dstack((covmatlist,covmat))\n",
      "    return noisyData, covmatlist\n",
      "    \n",
      "noisy_lQSO_train, covmatlist_lQSO_train = noisify(lQSO_train,covmat)\n",
      "noisy_dud_train, covmatlist_dud_train = noisify(dud_train,covmat)\n",
      "noisy_lQSO_test, covmatlist_lQSO_test = noisify(lQSO_test,covmat)\n",
      "noisy_dud_test, covmatlist_dud_test = noisify(dud_test,covmat)\n",
      "\n",
      "#fit indep XD models to both signal and duds\n",
      "lQSO_model = XDGMM(n_components=30,verbose=True)\n",
      "dud_model = XDGMM(n_components=30,verbose=True)\n",
      "lQSO_model.fit(noisy_lQSO_train, covmatlist_lQSO_train.transpose())\n",
      "dud_model.fit(noisy_dud_train, covmatlist_dud_train.transpose())"
     ],
     "language": "python",
     "metadata": {},
     "outputs": [
      {
       "output_type": "stream",
       "stream": "stdout",
       "text": [
        "[[ 0.1   0.01  0.01  0.01  0.01]\n",
        " [ 0.01  0.1   0.01  0.01  0.01]\n",
        " [ 0.01  0.01  0.1   0.01  0.01]\n",
        " [ 0.01  0.01  0.01  0.1   0.01]\n",
        " [ 0.01  0.01  0.01  0.01  0.1 ]]\n",
        "[[ 10.31746032  -0.79365079  -0.79365079  -0.79365079  -0.79365079]\n",
        " [ -0.79365079  10.31746032  -0.79365079  -0.79365079  -0.79365079]\n",
        " [ -0.79365079  -0.79365079  10.31746032  -0.79365079  -0.79365079]\n",
        " [ -0.79365079  -0.79365079  -0.79365079  10.31746032  -0.79365079]\n",
        " [ -0.79365079  -0.79365079  -0.79365079  -0.79365079  10.31746032]]\n",
        "[[ 0.1   0.01  0.01  0.01  0.01]\n",
        " [ 0.01  0.1   0.01  0.01  0.01]\n",
        " [ 0.01  0.01  0.1   0.01  0.01]\n",
        " [ 0.01  0.01  0.01  0.1   0.01]\n",
        " [ 0.01  0.01  0.01  0.01  0.1 ]]\n",
        "1: log(L) = 111.71"
       ]
      },
      {
       "output_type": "stream",
       "stream": "stdout",
       "text": [
        "\n",
        "    (3.6 sec)\n",
        "2: log(L) = 145.78"
       ]
      },
      {
       "output_type": "stream",
       "stream": "stdout",
       "text": [
        "\n",
        "    (3.6 sec)\n",
        "3: log(L) = 165.3"
       ]
      },
      {
       "output_type": "stream",
       "stream": "stdout",
       "text": [
        "\n",
        "    (3.4 sec)\n",
        "4: log(L) = 177.88"
       ]
      },
      {
       "output_type": "stream",
       "stream": "stdout",
       "text": [
        "\n",
        "    (3.4 sec)\n",
        "5: log(L) = 186.65"
       ]
      },
      {
       "output_type": "stream",
       "stream": "stdout",
       "text": [
        "\n",
        "    (3.5 sec)\n",
        "6: log(L) = 193.13"
       ]
      },
      {
       "output_type": "stream",
       "stream": "stdout",
       "text": [
        "\n",
        "    (3.5 sec)\n",
        "7: log(L) = 198.11"
       ]
      },
      {
       "output_type": "stream",
       "stream": "stdout",
       "text": [
        "\n",
        "    (3.4 sec)\n",
        "8: log(L) = 202.06"
       ]
      },
      {
       "output_type": "stream",
       "stream": "stdout",
       "text": [
        "\n",
        "    (3.4 sec)\n",
        "9: log(L) = 205.27"
       ]
      },
      {
       "output_type": "stream",
       "stream": "stdout",
       "text": [
        "\n",
        "    (3.4 sec)\n",
        "10: log(L) = 207.92"
       ]
      },
      {
       "output_type": "stream",
       "stream": "stdout",
       "text": [
        "\n",
        "    (3.5 sec)\n",
        "11: log(L) = 210.14"
       ]
      },
      {
       "output_type": "stream",
       "stream": "stdout",
       "text": [
        "\n",
        "    (3.4 sec)\n",
        "12: log(L) = 212.02"
       ]
      },
      {
       "output_type": "stream",
       "stream": "stdout",
       "text": [
        "\n",
        "    (3.4 sec)\n",
        "13: log(L) = 213.61"
       ]
      },
      {
       "output_type": "stream",
       "stream": "stdout",
       "text": [
        "\n",
        "    (3.4 sec)\n",
        "14: log(L) = 214.98"
       ]
      },
      {
       "output_type": "stream",
       "stream": "stdout",
       "text": [
        "\n",
        "    (3.5 sec)\n",
        "15: log(L) = 216.15"
       ]
      },
      {
       "output_type": "stream",
       "stream": "stdout",
       "text": [
        "\n",
        "    (3.5 sec)\n",
        "16: log(L) = 217.15"
       ]
      },
      {
       "output_type": "stream",
       "stream": "stdout",
       "text": [
        "\n",
        "    (3.4 sec)\n",
        "17: log(L) = 218"
       ]
      },
      {
       "output_type": "stream",
       "stream": "stdout",
       "text": [
        "\n",
        "    (3.4 sec)\n",
        "18: log(L) = 218.73"
       ]
      },
      {
       "output_type": "stream",
       "stream": "stdout",
       "text": [
        "\n",
        "    (3.5 sec)\n",
        "19: log(L) = 219.33"
       ]
      },
      {
       "output_type": "stream",
       "stream": "stdout",
       "text": [
        "\n",
        "    (3.4 sec)\n",
        "20: log(L) = 219.83"
       ]
      },
      {
       "output_type": "stream",
       "stream": "stdout",
       "text": [
        "\n",
        "    (3.5 sec)\n",
        "21: log(L) = 220.23"
       ]
      },
      {
       "output_type": "stream",
       "stream": "stdout",
       "text": [
        "\n",
        "    (3.4 sec)\n",
        "22: log(L) = 220.54"
       ]
      },
      {
       "output_type": "stream",
       "stream": "stdout",
       "text": [
        "\n",
        "    (3.4 sec)\n",
        "23: log(L) = 220.76"
       ]
      },
      {
       "output_type": "stream",
       "stream": "stdout",
       "text": [
        "\n",
        "    (3.4 sec)\n",
        "24: log(L) = 220.9"
       ]
      },
      {
       "output_type": "stream",
       "stream": "stdout",
       "text": [
        "\n",
        "    (3.4 sec)\n",
        "25: log(L) = 220.97"
       ]
      },
      {
       "output_type": "stream",
       "stream": "stdout",
       "text": [
        "\n",
        "    (3.4 sec)\n",
        "26: log(L) = 220.96"
       ]
      },
      {
       "output_type": "stream",
       "stream": "stdout",
       "text": [
        "\n",
        "    (3.4 sec)\n",
        "1: log(L) = -443.74"
       ]
      },
      {
       "output_type": "stream",
       "stream": "stdout",
       "text": [
        "\n",
        "    (16 sec)\n",
        "2: log(L) = -293.46"
       ]
      },
      {
       "output_type": "stream",
       "stream": "stdout",
       "text": [
        "\n",
        "    (16 sec)\n",
        "3: log(L) = -215.6"
       ]
      },
      {
       "output_type": "stream",
       "stream": "stdout",
       "text": [
        "\n",
        "    (16 sec)\n",
        "4: log(L) = -170.03"
       ]
      },
      {
       "output_type": "stream",
       "stream": "stdout",
       "text": [
        "\n",
        "    (16 sec)\n",
        "5: log(L) = -141.26"
       ]
      },
      {
       "output_type": "stream",
       "stream": "stdout",
       "text": [
        "\n",
        "    (16 sec)\n",
        "6: log(L) = -122.19"
       ]
      },
      {
       "output_type": "stream",
       "stream": "stdout",
       "text": [
        "\n",
        "    (16 sec)\n",
        "7: log(L) = -109.17"
       ]
      },
      {
       "output_type": "stream",
       "stream": "stdout",
       "text": [
        "\n",
        "    (16 sec)\n",
        "8: log(L) = -100.14"
       ]
      },
      {
       "output_type": "stream",
       "stream": "stdout",
       "text": [
        "\n",
        "    (16 sec)\n",
        "9: log(L) = -93.856"
       ]
      },
      {
       "output_type": "stream",
       "stream": "stdout",
       "text": [
        "\n",
        "    (16 sec)\n",
        "10: log(L) = -89.534"
       ]
      },
      {
       "output_type": "stream",
       "stream": "stdout",
       "text": [
        "\n",
        "    (16 sec)\n",
        "11: log(L) = -86.662"
       ]
      },
      {
       "output_type": "stream",
       "stream": "stdout",
       "text": [
        "\n",
        "    (16 sec)\n",
        "12: log(L) = -84.888"
       ]
      },
      {
       "output_type": "stream",
       "stream": "stdout",
       "text": [
        "\n",
        "    (16 sec)\n",
        "13: log(L) = -83.967"
       ]
      },
      {
       "output_type": "stream",
       "stream": "stdout",
       "text": [
        "\n",
        "    (16 sec)\n",
        "14: log(L) = -83.721"
       ]
      },
      {
       "output_type": "stream",
       "stream": "stdout",
       "text": [
        "\n",
        "    (17 sec)\n",
        "15: log(L) = -84.016"
       ]
      },
      {
       "output_type": "stream",
       "stream": "stdout",
       "text": [
        "\n",
        "    (16 sec)\n"
       ]
      },
      {
       "metadata": {},
       "output_type": "pyout",
       "prompt_number": 2,
       "text": [
        "<astroML.density_estimation.xdeconv.XDGMM at 0x109bef650>"
       ]
      }
     ],
     "prompt_number": 2
    },
    {
     "cell_type": "code",
     "collapsed": false,
     "input": [
      "#compute probabilities\n",
      "lQSO_sample_lQSO_model = np.sum(np.exp(lQSO_model.logprob_a(noisy_lQSO_train, covmatlist_lQSO_train.transpose())),axis=1)\n",
      "lQSO_sample_dud_model = np.sum(np.exp(dud_model.logprob_a(noisy_lQSO_train, covmatlist_lQSO_train.transpose())),axis=1)\n",
      "dud_sample_dud_model = np.sum(np.exp(dud_model.logprob_a(noisy_dud_train, covmatlist_dud_train.transpose())),axis=1)\n",
      "dud_sample_lQSO_model = np.sum(np.exp(lQSO_model.logprob_a(noisy_dud_train, covmatlist_dud_train.transpose())),axis=1)"
     ],
     "language": "python",
     "metadata": {},
     "outputs": [],
     "prompt_number": 3
    },
    {
     "cell_type": "code",
     "collapsed": false,
     "input": [
      "#training data probabilities\n",
      "lQSO_prior = .06007 #~1800 in a 30,000 sq deg PS1-like survey according to OM10 \n",
      "#TODO: what is the actual magnitude limit of Eric's sample data?\n",
      "dud_prior = 12300 # reciprocal number of objects in PS1 data sample from eric \n",
      "plQSO_lQSO = (lQSO_sample_lQSO_model * lQSO_prior)/(lQSO_sample_lQSO_model * lQSO_prior + lQSO_sample_dud_model * dud_prior)\n",
      "pdud_lQSO = (lQSO_sample_dud_model * dud_prior) / (lQSO_sample_lQSO_model * lQSO_prior + lQSO_sample_dud_model * dud_prior)\n",
      "plQSO_dud = (dud_sample_lQSO_model * lQSO_prior) / (dud_sample_lQSO_model * lQSO_prior + dud_sample_dud_model * dud_prior)\n",
      "pdud_dud =  (dud_sample_dud_model * dud_prior) /  (dud_sample_lQSO_model * lQSO_prior + dud_sample_dud_model * dud_prior)"
     ],
     "language": "python",
     "metadata": {},
     "outputs": [],
     "prompt_number": 6
    },
    {
     "cell_type": "code",
     "collapsed": false,
     "input": [
      "print np.sort(plQSO_lQSO)[::-1]"
     ],
     "language": "python",
     "metadata": {},
     "outputs": [
      {
       "output_type": "stream",
       "stream": "stdout",
       "text": [
        "[  4.46194001e-01   6.27541591e-02   3.46972141e-02   1.04148691e-02\n",
        "   5.88011339e-03   5.87500071e-03   2.13847261e-03   1.68000529e-03\n",
        "   1.34920536e-03   1.09703550e-03   8.87287150e-04   8.05867168e-04\n",
        "   6.62208417e-04   6.11428520e-04   5.99610165e-04   4.94771000e-04\n",
        "   4.46853690e-04   4.40131444e-04   4.40118605e-04   4.18990037e-04\n",
        "   4.17547474e-04   4.08936056e-04   3.83751672e-04   3.43292465e-04\n",
        "   3.11602230e-04   3.10361736e-04   2.86059600e-04   2.82796484e-04\n",
        "   2.77715042e-04   2.72757392e-04   2.59251650e-04   2.31339247e-04\n",
        "   2.22082954e-04   2.18742111e-04   2.14777730e-04   2.14681307e-04\n",
        "   2.10307756e-04   1.98181533e-04   1.89028986e-04   1.81624131e-04\n",
        "   1.78630133e-04   1.73108880e-04   1.70975340e-04   1.68240842e-04\n",
        "   1.64305318e-04   1.60924493e-04   1.55002055e-04   1.51339211e-04\n",
        "   1.50993280e-04   1.45510952e-04   1.45234792e-04   1.42616078e-04\n",
        "   1.41055558e-04   1.40654455e-04   1.39712414e-04   1.36589745e-04\n",
        "   1.32980617e-04   1.32877355e-04   1.29217915e-04   1.28495929e-04\n",
        "   1.24908423e-04   1.21535632e-04   1.10850999e-04   1.10500569e-04\n",
        "   1.09805397e-04   1.05986306e-04   1.05233873e-04   1.03415552e-04\n",
        "   1.01266085e-04   9.99869654e-05   9.84809339e-05   9.82948603e-05\n",
        "   9.80762156e-05   9.79347551e-05   9.39923882e-05   9.26979828e-05\n",
        "   9.25798751e-05   8.97621942e-05   8.92980522e-05   8.69841471e-05\n",
        "   8.66653991e-05   8.57711833e-05   8.53638361e-05   8.40794590e-05\n",
        "   8.39057588e-05   8.34770566e-05   8.30670548e-05   8.29008285e-05\n",
        "   8.23091575e-05   8.20126623e-05   8.18688006e-05   8.16960565e-05\n",
        "   8.16223260e-05   8.12211414e-05   8.05080504e-05   7.95673742e-05\n",
        "   7.95034605e-05   7.90937510e-05   7.83275997e-05   7.77150409e-05\n",
        "   7.63166654e-05   7.62557354e-05   7.62382536e-05   7.57990748e-05\n",
        "   7.51092780e-05   7.39963679e-05   7.37761272e-05   7.37059089e-05\n",
        "   7.34897180e-05   7.34254472e-05   7.32452085e-05   7.31030345e-05\n",
        "   7.29199051e-05   7.28968200e-05   7.28271748e-05   7.16688123e-05\n",
        "   7.16224274e-05   7.12792478e-05   7.11896376e-05   7.03642843e-05\n",
        "   7.02986161e-05   6.96674482e-05   6.96335906e-05   6.95143201e-05\n",
        "   6.93027918e-05   6.84005006e-05   6.81863748e-05   6.74266307e-05\n",
        "   6.70057795e-05   6.67602522e-05   6.67527189e-05   6.62711120e-05\n",
        "   6.61268247e-05   6.50152529e-05   6.49300123e-05   6.45600443e-05\n",
        "   6.43273474e-05   6.40508693e-05   6.33924862e-05   6.24647994e-05\n",
        "   6.12092223e-05   6.08322738e-05   6.05614758e-05   6.02648736e-05\n",
        "   6.00020538e-05   5.99406550e-05   5.89422227e-05   5.87639640e-05\n",
        "   5.80596235e-05   5.77699794e-05   5.76530916e-05   5.72273795e-05\n",
        "   5.69698725e-05   5.66498853e-05   5.65502987e-05   5.62470424e-05\n",
        "   5.61726232e-05   5.61350779e-05   5.59800886e-05   5.58934006e-05\n",
        "   5.56310412e-05   5.54382093e-05   5.53705261e-05   5.46775216e-05\n",
        "   5.46175509e-05   5.44861968e-05   5.43501205e-05   5.43478314e-05\n",
        "   5.41833828e-05   5.38987964e-05   5.38910835e-05   5.38574053e-05\n",
        "   5.36876943e-05   5.34410320e-05   5.33641181e-05   5.33579832e-05\n",
        "   5.30756398e-05   5.21447737e-05   5.21171610e-05   5.17375170e-05\n",
        "   5.11642039e-05   5.09567980e-05   5.09265923e-05   5.06783223e-05\n",
        "   5.06623486e-05   5.05754101e-05   5.03265097e-05   5.02070836e-05\n",
        "   4.97816726e-05   4.96989219e-05   4.95899598e-05   4.95164737e-05\n",
        "   4.93058405e-05   4.92814161e-05   4.89040344e-05   4.88624364e-05\n",
        "   4.87311663e-05   4.84555419e-05   4.84437884e-05   4.83704611e-05\n",
        "   4.82708626e-05   4.78783207e-05   4.76684538e-05   4.75324444e-05\n",
        "   4.70374959e-05   4.65390498e-05   4.64985396e-05   4.61645341e-05\n",
        "   4.58130026e-05   4.55345894e-05   4.54428470e-05   4.51571787e-05\n",
        "   4.50189314e-05   4.47142100e-05   4.44937591e-05   4.44774841e-05\n",
        "   4.42773142e-05   4.41988507e-05   4.40185134e-05   4.39717161e-05\n",
        "   4.39335944e-05   4.39104606e-05   4.38697771e-05   4.38448199e-05\n",
        "   4.38391247e-05   4.37467962e-05   4.36797826e-05   4.35968156e-05\n",
        "   4.34636542e-05   4.34340272e-05   4.28569751e-05   4.25277347e-05\n",
        "   4.24320384e-05   4.23163565e-05   4.22284100e-05   4.21051067e-05\n",
        "   4.20863901e-05   4.18325493e-05   4.18156347e-05   4.17838180e-05\n",
        "   4.15397895e-05   4.15276843e-05   4.11208313e-05   4.09036523e-05\n",
        "   4.08473220e-05   4.08179824e-05   4.07853102e-05   4.07147840e-05\n",
        "   4.06500630e-05   4.04938774e-05   4.03383904e-05   4.02965783e-05\n",
        "   3.98019611e-05   3.95043887e-05   3.93586083e-05   3.93571891e-05\n",
        "   3.90640956e-05   3.90598826e-05   3.88817923e-05   3.88248478e-05\n",
        "   3.88152317e-05   3.88012688e-05   3.87884407e-05   3.87793425e-05\n",
        "   3.87635045e-05   3.78940058e-05   3.78542327e-05   3.75731610e-05\n",
        "   3.73779839e-05   3.68378458e-05   3.65220870e-05   3.63346887e-05\n",
        "   3.62554445e-05   3.62369807e-05   3.61911958e-05   3.61843627e-05\n",
        "   3.61615240e-05   3.60861109e-05   3.59718133e-05   3.59142528e-05\n",
        "   3.57739470e-05   3.55421150e-05   3.54132985e-05   3.53791754e-05\n",
        "   3.48949008e-05   3.47696791e-05   3.47250440e-05   3.42085682e-05\n",
        "   3.40476664e-05   3.39576049e-05   3.39127613e-05   3.38694520e-05\n",
        "   3.37998355e-05   3.36882363e-05   3.36083423e-05   3.35581596e-05\n",
        "   3.35279298e-05   3.34611044e-05   3.34054036e-05   3.33685684e-05\n",
        "   3.33002179e-05   3.30472564e-05   3.29738221e-05   3.29102643e-05\n",
        "   3.28470031e-05   3.26480642e-05   3.26254211e-05   3.26177792e-05\n",
        "   3.23861800e-05   3.23212562e-05   3.22001915e-05   3.19580329e-05\n",
        "   3.19196367e-05   3.18413046e-05   3.18036978e-05   3.16711239e-05\n",
        "   3.14687500e-05   3.13777195e-05   3.11718839e-05   3.10218449e-05\n",
        "   3.08306097e-05   3.07684680e-05   3.06817054e-05   3.04782471e-05\n",
        "   3.04768906e-05   3.04540251e-05   3.02330258e-05   3.01484473e-05\n",
        "   3.01465950e-05   3.01003886e-05   3.01001047e-05   3.00370534e-05\n",
        "   2.98952086e-05   2.98395455e-05   2.97579898e-05   2.96186002e-05\n",
        "   2.94731316e-05   2.94323815e-05   2.93918981e-05   2.93437726e-05\n",
        "   2.90987452e-05   2.90144626e-05   2.89300677e-05   2.87249908e-05\n",
        "   2.85529290e-05   2.85516925e-05   2.84824351e-05   2.84420517e-05\n",
        "   2.82821654e-05   2.81730249e-05   2.81109689e-05   2.80892311e-05\n",
        "   2.80271581e-05   2.78604982e-05   2.78170124e-05   2.75996062e-05\n",
        "   2.75872519e-05   2.73802939e-05   2.71885220e-05   2.67487650e-05\n",
        "   2.66786297e-05   2.66587390e-05   2.65674675e-05   2.64123683e-05\n",
        "   2.63913839e-05   2.60959703e-05   2.60159442e-05   2.57174172e-05\n",
        "   2.55055679e-05   2.55026673e-05   2.53741530e-05   2.52560638e-05\n",
        "   2.52181987e-05   2.50678083e-05   2.49664765e-05   2.49297079e-05\n",
        "   2.48172947e-05   2.47655805e-05   2.47117946e-05   2.46224824e-05\n",
        "   2.45650145e-05   2.43301652e-05   2.42778372e-05   2.42544705e-05\n",
        "   2.41178396e-05   2.35874590e-05   2.33317200e-05   2.32192120e-05\n",
        "   2.31740885e-05   2.31293032e-05   2.31131687e-05   2.30766611e-05\n",
        "   2.30510254e-05   2.30199009e-05   2.29791594e-05   2.29331892e-05\n",
        "   2.28463794e-05   2.25944770e-05   2.25758958e-05   2.25031658e-05\n",
        "   2.24547769e-05   2.23009765e-05   2.21692388e-05   2.21272229e-05\n",
        "   2.21047273e-05   2.20207693e-05   2.19980033e-05   2.19708288e-05\n",
        "   2.19588208e-05   2.19094232e-05   2.18899393e-05   2.17273317e-05\n",
        "   2.17205497e-05   2.13297735e-05   2.13041649e-05   2.10740316e-05\n",
        "   2.09900530e-05   2.09420072e-05   2.08139112e-05   2.08107824e-05\n",
        "   2.07869086e-05   2.07333439e-05   2.07327012e-05   2.07012077e-05\n",
        "   2.06470111e-05   2.06322981e-05   2.05249495e-05   2.03321172e-05\n",
        "   2.02896227e-05   2.01869052e-05   2.00924666e-05   1.99876437e-05\n",
        "   1.94489133e-05   1.93823969e-05   1.93460307e-05   1.93144072e-05\n",
        "   1.92535722e-05   1.92449234e-05   1.91491201e-05   1.91292022e-05\n",
        "   1.91042548e-05   1.90329412e-05   1.90325450e-05   1.89003076e-05\n",
        "   1.88463040e-05   1.88010719e-05   1.87272448e-05   1.86761504e-05\n",
        "   1.86558290e-05   1.86386154e-05   1.84570185e-05   1.84504713e-05\n",
        "   1.84002615e-05   1.83787090e-05   1.83011011e-05   1.82896487e-05\n",
        "   1.82656482e-05   1.82038006e-05   1.80876758e-05   1.79061180e-05\n",
        "   1.77366975e-05   1.75931955e-05   1.74789841e-05   1.74756824e-05\n",
        "   1.73194533e-05   1.72933693e-05   1.72778068e-05   1.72089665e-05\n",
        "   1.67427363e-05   1.67143656e-05   1.66960527e-05   1.65148964e-05\n",
        "   1.64107062e-05   1.63026095e-05   1.62935681e-05   1.62532181e-05\n",
        "   1.62183651e-05   1.62147822e-05   1.60766304e-05   1.60292372e-05\n",
        "   1.59378257e-05   1.59069523e-05   1.58278546e-05   1.57405120e-05\n",
        "   1.55870297e-05   1.55581731e-05   1.53493500e-05   1.52463021e-05\n",
        "   1.52423229e-05   1.51824576e-05   1.51156606e-05   1.50965937e-05\n",
        "   1.47161872e-05   1.46763691e-05   1.46416447e-05   1.44355062e-05\n",
        "   1.43652103e-05   1.43591738e-05   1.42299062e-05   1.42015377e-05\n",
        "   1.41436860e-05   1.40124632e-05   1.38084757e-05   1.37157131e-05\n",
        "   1.36703607e-05   1.36592413e-05   1.36355377e-05   1.35559657e-05\n",
        "   1.35085838e-05   1.34695018e-05   1.34180707e-05   1.33904103e-05\n",
        "   1.33487286e-05   1.33060859e-05   1.32413769e-05   1.32039959e-05\n",
        "   1.31624885e-05   1.31211955e-05   1.28617346e-05   1.28314464e-05\n",
        "   1.28081035e-05   1.27844933e-05   1.27585781e-05   1.27219754e-05\n",
        "   1.26610700e-05   1.26576388e-05   1.26532154e-05   1.25540111e-05\n",
        "   1.24962719e-05   1.24165783e-05   1.23774575e-05   1.23701587e-05\n",
        "   1.21466231e-05   1.19838204e-05   1.18829180e-05   1.18208042e-05\n",
        "   1.17789740e-05   1.17250899e-05   1.16205567e-05   1.15769603e-05\n",
        "   1.15516510e-05   1.14395971e-05   1.13347250e-05   1.13230729e-05\n",
        "   1.13022428e-05   1.12496108e-05   1.12285646e-05   1.11976154e-05\n",
        "   1.11483007e-05   1.09643327e-05   1.09333278e-05   1.00626995e-05\n",
        "   1.00251375e-05   9.81099327e-06   9.76506658e-06   9.53260560e-06\n",
        "   9.46709382e-06   9.41592522e-06   9.34607031e-06   9.30513995e-06\n",
        "   9.20440924e-06   9.19459833e-06   9.15383396e-06   9.06705913e-06\n",
        "   9.00679937e-06   8.99110850e-06   8.77526899e-06   8.73817358e-06\n",
        "   8.64827446e-06   8.63575490e-06   8.56427036e-06   8.53909567e-06\n",
        "   8.46225804e-06   8.45173447e-06   8.41746499e-06   8.23606513e-06\n",
        "   8.22454535e-06   8.21200850e-06   8.17560859e-06   8.11016005e-06\n",
        "   8.05619004e-06   8.01938021e-06   7.99769745e-06   7.97896794e-06\n",
        "   7.97335092e-06   7.97145278e-06   7.91825832e-06   7.91175601e-06\n",
        "   7.87555230e-06   7.74830106e-06   7.71175507e-06   7.69072031e-06\n",
        "   7.67551303e-06   7.67252081e-06   7.61187071e-06   7.58407015e-06\n",
        "   7.57563239e-06   7.57158035e-06   7.55667427e-06   7.50386652e-06\n",
        "   7.47080976e-06   7.44836392e-06   7.37502848e-06   7.36815703e-06\n",
        "   7.30501743e-06   7.22203939e-06   7.17517662e-06   7.15801308e-06\n",
        "   7.15030387e-06   7.14898043e-06   7.12783382e-06   7.04751036e-06\n",
        "   6.71550779e-06   6.56155229e-06   6.54993376e-06   6.46430893e-06\n",
        "   6.33522988e-06   6.29582402e-06   6.28573922e-06   6.25078059e-06\n",
        "   6.16231239e-06   6.09327033e-06   6.00513927e-06   5.96047392e-06\n",
        "   5.95105117e-06   5.91737758e-06   5.91375240e-06   5.88230706e-06\n",
        "   5.83572547e-06   5.79730664e-06   5.79328577e-06   5.76127323e-06\n",
        "   5.72530571e-06   5.69901663e-06   5.69153350e-06   5.68363302e-06\n",
        "   5.42159387e-06   5.41702633e-06   5.39071449e-06   5.37404825e-06\n",
        "   5.35107677e-06   5.24167866e-06   5.23432573e-06   5.21396824e-06\n",
        "   5.21383531e-06   5.15079641e-06   5.13920948e-06   5.13789514e-06\n",
        "   4.99109931e-06   4.86686975e-06   4.83545892e-06   4.83077206e-06\n",
        "   4.66331232e-06   4.55509993e-06   4.50141461e-06   4.49739444e-06\n",
        "   4.49492148e-06   4.47361023e-06   4.34399116e-06   4.29189923e-06\n",
        "   4.27757526e-06   4.23847534e-06   4.23373877e-06   4.21565779e-06\n",
        "   4.18428184e-06   4.11710272e-06   3.99435017e-06   3.98009452e-06\n",
        "   3.95693716e-06   3.94842790e-06   3.92244618e-06   3.90097173e-06\n",
        "   3.80666563e-06   3.79575812e-06   3.74716285e-06   3.65947977e-06\n",
        "   3.63126540e-06   3.58491191e-06   3.57404585e-06   3.47069314e-06\n",
        "   3.43573192e-06   3.41677516e-06   3.39412962e-06   3.38055911e-06\n",
        "   3.36979518e-06   3.24697828e-06   3.23221772e-06   3.22676587e-06\n",
        "   3.20185572e-06   3.18071917e-06   3.15944681e-06   3.09707792e-06\n",
        "   3.06413863e-06   2.98629951e-06   2.93917223e-06   2.90158150e-06\n",
        "   2.87367344e-06   2.85433532e-06   2.83093043e-06   2.82163351e-06\n",
        "   2.81158677e-06   2.74660839e-06   2.72925322e-06   2.71696884e-06\n",
        "   2.70947461e-06   2.68873574e-06   2.67141155e-06   2.66697302e-06\n",
        "   2.61287212e-06   2.59550395e-06   2.56599738e-06   2.56220312e-06\n",
        "   2.55828123e-06   2.54302006e-06   2.47149890e-06   2.31532443e-06\n",
        "   2.31091420e-06   2.29061386e-06   2.26853030e-06   2.22755725e-06\n",
        "   2.19955028e-06   2.18921922e-06   2.14917225e-06   2.14487232e-06\n",
        "   2.12511134e-06   2.02674677e-06   2.00124077e-06   1.99715569e-06\n",
        "   1.94915169e-06   1.85244400e-06   1.85216892e-06   1.83019980e-06\n",
        "   1.82436256e-06   1.77940551e-06   1.59188628e-06   1.54984124e-06\n",
        "   1.44076699e-06   1.43162188e-06   1.31432075e-06   1.22895291e-06\n",
        "   1.21389280e-06   1.15581162e-06   1.12471669e-06   1.11974969e-06\n",
        "   1.05536218e-06   1.02925091e-06   1.02332896e-06   9.04516876e-07\n",
        "   8.55542876e-07   8.49995724e-07   8.39732989e-07   8.33207575e-07\n",
        "   7.46020908e-07   7.38915030e-07   4.98967315e-07   4.85137552e-07\n",
        "   4.71435692e-07   3.99820694e-07   2.63357151e-07   1.64354762e-07\n",
        "   1.39638584e-07]\n"
       ]
      }
     ],
     "prompt_number": 12
    },
    {
     "cell_type": "code",
     "collapsed": false,
     "input": [
      "_ = plt.hist(plQSO_lQSO,bins=20)\n",
      "plt.title('lQSO probability of lQSO')\n",
      "plt.figure()\n",
      "_ = plt.hist(pdud_lQSO,bins=20)\n",
      "plt.title('dud probability of lQSO')\n",
      "plt.figure()\n",
      "_ = plt.hist(plQSO_dud,bins=20)\n",
      "plt.title('lQSO probability of dud')\n",
      "plt.figure()\n",
      "_ = plt.hist(pdud_dud,bins=20)\n",
      "plt.title('dud probability of dud')"
     ],
     "language": "python",
     "metadata": {},
     "outputs": [
      {
       "metadata": {},
       "output_type": "pyout",
       "prompt_number": 7,
       "text": [
        "<matplotlib.text.Text at 0x109be3e50>"
       ]
      },
      {
       "metadata": {},
       "output_type": "display_data",
       "png": "[encoded data removed]",
       "text": [
        "<matplotlib.figure.Figure at 0x1098e35d0>"
       ]
      },
      {
       "metadata": {},
       "output_type": "display_data",
       "png": "[encoded data removed]",
       "text": [
        "<matplotlib.figure.Figure at 0x1098d05d0>"
       ]
      },
      {
       "metadata": {},
       "output_type": "display_data",
       "png": "[encoded data removed]",
       "text": [
        "<matplotlib.figure.Figure at 0x102feb6d0>"
       ]
      },
      {
       "metadata": {},
       "output_type": "display_data",
       "png": "[encoded data removed]",
       "text": [
        "<matplotlib.figure.Figure at 0x102fa5850>"
       ]
      }
     ],
     "prompt_number": 7
    },
    {
     "cell_type": "code",
     "collapsed": false,
     "input": [
      "from sklearn.metrics import roc_curve\n",
      "trainTruth = np.concatenate([np.ones(lQSO_train.shape[0]),np.zeros(dud_train.shape[0])])\n",
      "trainProbs = np.concatenate([plQSO_lQSO,plQSO_dud])\n",
      "fpr, tpr, _ = roc_curve(trainTruth,trainProbs,pos_label=1)\n",
      "plt.title('ROC Curve')\n",
      "plt.plot(fpr,tpr)\n",
      "plt.xlabel('FPR')\n",
      "plt.ylabel('TPR')"
     ],
     "language": "python",
     "metadata": {},
     "outputs": [
      {
       "metadata": {},
       "output_type": "pyout",
       "prompt_number": 26,
       "text": [
        "<matplotlib.text.Text at 0x10b7dfa10>"
       ]
      },
      {
       "metadata": {},
       "output_type": "display_data",
       "png": "[encoded data removed]",
       "text": [
        "<matplotlib.figure.Figure at 0x10b7aa110>"
       ]
      }
     ],
     "prompt_number": 26
    },
    {
     "cell_type": "code",
     "collapsed": false,
     "input": [
      "\"\"\"\n",
      "class Dataset(object):\n",
      "\n",
      "    __init__(self)\n",
      "        #fits header properties\n",
      "    \n",
      "    plot(self):\n",
      "        #make triangle plot; overlay on current triangle plot, if any.\n",
      "        return\n",
      "\"\"\"\n",
      "# import PS1QLS\n",
      "from astroML.density_estimation import XDGMM\n",
      "from astroML.plotting.tools import draw_ellipse\n",
      "import triangle\n",
      "\n",
      "class Classifier(object):\n",
      "\n",
      "    def __init__(self,algorithm='XD'):\n",
      "        if algorithm == 'XD':\n",
      "            self.xdmodel = XDGMM(n_components=7)\n",
      "        else: \n",
      "            print 'Not implemented yet!'\n",
      "        \n",
      "        return\n",
      "    \n",
      "    def train(self,training,covmatlist):\n",
      "        self.xdmodel.fit(training, covmatlist.transpose())\n",
      "        return\n",
      "    \n",
      "    def test(self,test):\n",
      "        self.xdprobs=np.sum(np.exp(self.xdmodel.logprob_a(test, covmatlist.transpose())),axis=1)\n",
      "        return\n",
      "    \n",
      "    def report(self,truth):\n",
      "        return\n",
      "        \n",
      "    \n",
      "lQSOModel = Classifier(algorithm='XD')\n",
      "dudModel = Classifier(algorithm='XD')\n",
      "lQSOModel.train(noisyData,covmatlist) #\n",
      "RF.test(noisyData)            # calculates classification probabilities\n",
      "plt.hist(RF.xdprobs,bins=20)\n",
      "#RF.report()                  # make plots, report statistics etc.\n",
      "#RF.save()                    # pickles itself\n",
      "#RF.score(testtruth)          # plots an ROC curve    "
     ],
     "language": "python",
     "metadata": {},
     "outputs": []
    },
    {
     "cell_type": "code",
     "collapsed": false,
     "input": [
      "test = fits.getdata('/Users/mbaumer/Downloads/xdcore_000094.fits')"
     ],
     "language": "python",
     "metadata": {},
     "outputs": [],
     "prompt_number": 3
    },
    {
     "cell_type": "code",
     "collapsed": false,
     "input": [
      "print test['PSTAR']"
     ],
     "language": "python",
     "metadata": {},
     "outputs": [
      {
       "output_type": "stream",
       "stream": "stdout",
       "text": [
        "[  9.99997541e-01   8.95314494e-01   9.99934148e-01   9.99997841e-01\n",
        "   9.99999673e-01   9.96007379e-01   9.99357509e-01   9.58773115e-01\n",
        "   9.78032992e-01   9.99999935e-01   9.99992040e-01   9.84752323e-01\n",
        "   9.99999811e-01   9.82736030e-01   9.97955201e-01   9.68154739e-01\n",
        "   9.69744004e-01   9.62718035e-01   9.99999638e-01   9.54606012e-01\n",
        "   9.95664419e-01   9.99735642e-01   9.93665839e-01   9.06727273e-01\n",
        "   9.96384841e-01   9.92775939e-01   9.98635999e-01   9.74086846e-01\n",
        "   9.55341178e-01   9.96779529e-01   9.95995741e-01   9.99999520e-01\n",
        "   9.95541248e-01   9.69512259e-01   9.85131411e-01   9.99144071e-01\n",
        "   9.98621358e-01   9.63278701e-01   9.95366692e-01   9.96590614e-01\n",
        "   9.99997675e-01   9.99966208e-01   9.99999029e-01   9.99998551e-01\n",
        "   9.98420483e-01   9.98211327e-01   7.59943861e-01   9.99642012e-01\n",
        "   9.99967553e-01   9.99042967e-01   9.99926608e-01   9.97905125e-01\n",
        "   9.99867681e-01   9.99999283e-01   9.99998483e-01   9.99916176e-01\n",
        "   9.99982659e-01   9.99982704e-01   9.99938674e-01   9.99448803e-01\n",
        "   9.85194597e-01   9.99597690e-01   9.99999788e-01   9.85866426e-01\n",
        "   9.99999593e-01   9.68365597e-01   9.99669780e-01   9.98661863e-01\n",
        "   9.30375026e-01   9.99993674e-01   9.99844595e-01   9.99998758e-01\n",
        "   9.99854056e-01   9.99998013e-01   9.99999726e-01   9.85785875e-01\n",
        "   9.99997676e-01   9.39065233e-01   9.97968333e-01   8.76457046e-01\n",
        "   9.99420177e-01   9.58320256e-01   9.87131633e-01   9.97924741e-01\n",
        "   9.41722131e-01   9.89521962e-01   9.42695233e-01   9.98201097e-01\n",
        "   9.96642257e-01   9.71332477e-01   9.98406131e-01   9.29445004e-01\n",
        "   9.99368828e-01   9.99998855e-01   9.99999936e-01   9.80593199e-01\n",
        "   9.91830268e-01   9.99148204e-01   9.34737533e-01   9.99893143e-01\n",
        "   9.97666168e-01   9.99584944e-01   9.92825999e-01   9.57939532e-01\n",
        "   9.93771675e-01   9.99999861e-01   5.70500940e-01   9.99953714e-01\n",
        "   9.04241452e-01   9.97961419e-01   9.50483049e-01   9.99997897e-01\n",
        "   9.98356604e-01   9.24108100e-01   9.99994345e-01   9.99985468e-01\n",
        "   9.95713391e-01   9.46698142e-01   9.96787771e-01   9.99552557e-01\n",
        "   9.99388376e-01   9.99999952e-01   9.97716498e-01   9.99584984e-01\n",
        "   9.99732994e-01   9.99999350e-01   9.91412855e-01   9.88148854e-01\n",
        "   9.99976519e-01   9.99996731e-01   9.77218988e-01   9.99996748e-01\n",
        "   9.83202264e-01   9.85361669e-01   9.99956840e-01   9.99357131e-01\n",
        "   9.99146813e-01   9.99686271e-01   9.99816246e-01   9.99998200e-01\n",
        "   9.99989389e-01   9.99996551e-01   9.48961668e-01   9.76336522e-01\n",
        "   9.99922847e-01   9.69786908e-01   9.99999158e-01   9.99999971e-01\n",
        "   5.51536499e-02   9.10727088e-01   9.99723265e-01   9.99901978e-01\n",
        "   9.99361450e-01   6.92338276e-01   9.77033618e-01   9.99674249e-01\n",
        "   9.99994296e-01   9.83436034e-01   9.79944250e-01   9.99681925e-01\n",
        "   9.68644192e-01   9.89285007e-01   9.95323837e-01   9.79201141e-01\n",
        "   9.96231319e-01   9.99998524e-01   9.68127951e-01   9.94286020e-01\n",
        "   9.99042082e-01   9.90707638e-01   1.10488201e-05   9.99177465e-01\n",
        "   9.85825618e-01   9.94181713e-01   9.98678199e-01   9.59321831e-01\n",
        "   9.99949045e-01   9.99977521e-01   9.99973662e-01   9.99999958e-01\n",
        "   9.99999525e-01   9.70630856e-01   9.82679393e-01   9.99999846e-01\n",
        "   9.98757394e-01   9.99997405e-01   9.99040703e-01   9.99933065e-01\n",
        "   9.92785695e-01   9.97929237e-01   9.97481966e-01]\n"
       ]
      }
     ],
     "prompt_number": 8
    },
    {
     "cell_type": "markdown",
     "metadata": {},
     "source": [
      "Hmm, from looking at Bovy's XDQSO catalog, it's clear that the XD \"density factor\" can be greater than one. In my analysis of Adri's sims I see as high as 54!"
     ]
    },
    {
     "cell_type": "code",
     "collapsed": false,
     "input": [],
     "language": "python",
     "metadata": {},
     "outputs": []
    }
   ],
   "metadata": {}
  }
 ]
}