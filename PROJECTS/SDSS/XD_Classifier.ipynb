{
 "metadata": {
  "name": "",
  "signature": "sha256:05a792eae3a28b08d29436fc84023721c5e5df818672a005fec8cf6f41000d44"
 },
 "nbformat": 3,
 "nbformat_minor": 0,
 "worksheets": [
  {
   "cells": [
    {
     "cell_type": "code",
     "collapsed": false,
     "input": [
      "%matplotlib inline\n",
      "import matplotlib.pyplot as plt\n",
      "import numpy as np\n",
      "from sklearn.cross_validation import train_test_split\n",
      "from astroML.density_estimation import XDGMM\n",
      "from astropy.io import fits\n",
      "import triangle\n",
      "dataLoc = '../../'\n",
      "\n",
      "labels = ['ID','mag_model_i','g-r', 'r-i', 'i-z', 'WISE1', 'WISE2' ]\n",
      "pQSO = np.loadtxt(dataLoc+'pQSO/pSDSScolmag.txt')[:,2:]\n",
      "lQSO = np.loadtxt(dataLoc+'lQSO/SDSScolmag.txt')[:,2:]\n",
      "sinQSO = np.loadtxt(dataLoc+'sinQSO/sSDSScolmag.txt')[:,2:]\n",
      "unlQSO = np.loadtxt(dataLoc+'unlQSO/nlSDSScolmag.txt')[:,2:]\n",
      "unlQSO[:,3:5] = -unlQSO[:,3:5] #bug in WISE magnitudes for this file\n",
      "\n",
      "duds = np.concatenate((pQSO,unlQSO,sinQSO),axis=0)\n",
      "data = np.concatenate((lQSO,duds),axis=0) #all sims\n",
      "truth = np.concatenate((np.ones(lQSO.shape[0]),np.zeros(duds.shape[0])),axis=0)\n",
      "\n",
      "numPts = data.shape[0]\n",
      "\n",
      "(lQSO_train, lQSO_test) = train_test_split(lQSO, test_size=0.25)\n",
      "(dud_train, dud_test) = train_test_split(duds, test_size=0.25)"
     ],
     "language": "python",
     "metadata": {},
     "outputs": [],
     "prompt_number": 16
    },
    {
     "cell_type": "code",
     "collapsed": false,
     "input": [
      "perturbingSigma = 0.2\n",
      "nFeatures=data.shape[1]\n",
      "z = zip(np.random.normal(scale=perturbingSigma,size=nFeatures),np.random.normal(scale=perturbingSigma,size=nFeatures))\n",
      "covmat = np.cov(z)\n",
      "\n",
      "def noisify(data,covmat):\n",
      "\n",
      "    nFeatures = data.shape[1]\n",
      "\n",
      "    #perturb data\n",
      "    perturbations = np.random.multivariate_normal(np.zeros(nFeatures),covmat,size=data.shape[0])\n",
      "    noisyData = data + perturbations\n",
      "\n",
      "    #XD function needs to be delivered a list of covariance matrices\n",
      "    covmatlist = np.dstack((covmat,covmat))\n",
      "    while covmatlist.shape[2] < data.shape[0]:\n",
      "        covmatlist = np.dstack((covmatlist,covmat))\n",
      "    return noisyData, covmatlist\n",
      "    \n",
      "noisy_lQSO_train, covmatlist_lQSO_train = noisify(lQSO_train,covmat)\n",
      "noisy_dud_train, covmatlist_dud_train = noisify(dud_train,covmat)\n",
      "noisy_lQSO_test, covmatlist_lQSO_test = noisify(lQSO_test,covmat)\n",
      "noisy_dud_test, covmatlist_dud_test = noisify(dud_test,covmat)\n",
      "\n",
      "#fit indep XD models to both signal and duds\n",
      "lQSO_model = XDGMM(n_components=5)\n",
      "dud_model = XDGMM(n_components=5)\n",
      "lQSO_model.fit(noisy_lQSO_train, covmatlist_lQSO_train.transpose())\n",
      "dud_model.fit(noisy_dud_train, covmatlist_dud_train.transpose())"
     ],
     "language": "python",
     "metadata": {},
     "outputs": [],
     "prompt_number": 17
    },
    {
     "cell_type": "code",
     "collapsed": false,
     "input": [
      "#compute probabilities\n",
      "lQSO_sample_lQSO_model = np.sum(np.exp(lQSO_model.logprob_a(noisy_lQSO_train, covmatlist_lQSO_train.transpose())),axis=1)\n",
      "lQSO_sample_dud_model = np.sum(np.exp(dud_model.logprob_a(noisy_lQSO_train, covmatlist_lQSO_train.transpose())),axis=1)\n",
      "dud_sample_dud_model = np.sum(np.exp(dud_model.logprob_a(noisy_dud_train, covmatlist_dud_train.transpose())),axis=1)\n",
      "dud_sample_lQSO_model = np.sum(np.exp(lQSO_model.logprob_a(noisy_dud_train, covmatlist_dud_train.transpose())),axis=1)"
     ],
     "language": "python",
     "metadata": {},
     "outputs": [],
     "prompt_number": 51
    },
    {
     "cell_type": "code",
     "collapsed": false,
     "input": [
      "#training data probabilities\n",
      "lQSO_prior = .06007 #~1800 in a 30,000 sq deg PS1-like survey according to OM10 \n",
      "#TODO: what is the actual magnitude limit of Eric's sample data?\n",
      "dud_prior = .000081301 # reciprocal number of objects in PS1 data sample from eric \n",
      "plQSO_lQSO = (lQSO_sample_lQSO_model * lQSO_prior)/(lQSO_sample_lQSO_model * lQSO_prior + lQSO_sample_dud_model * dud_prior)\n",
      "pdud_lQSO = (lQSO_sample_dud_model * dud_prior) / (lQSO_sample_lQSO_model * lQSO_prior + lQSO_sample_dud_model * dud_prior)\n",
      "plQSO_dud = (dud_sample_lQSO_model * lQSO_prior) / (dud_sample_lQSO_model * lQSO_prior + dud_sample_dud_model * dud_prior)\n",
      "pdud_dud =  (dud_sample_dud_model * dud_prior) /  (dud_sample_lQSO_model * lQSO_prior + dud_sample_dud_model * dud_prior)"
     ],
     "language": "python",
     "metadata": {},
     "outputs": [],
     "prompt_number": 58
    },
    {
     "cell_type": "code",
     "collapsed": false,
     "input": [
      "_ = plt.hist(plQSO_lQSO,bins=20)\n",
      "plt.title('lQSO probability of lQSO')\n",
      "plt.figure()\n",
      "_ = plt.hist(pdud_lQSO,bins=20)\n",
      "plt.title('dud probability of lQSO')\n",
      "plt.figure()\n",
      "_ = plt.hist(plQSO_dud,bins=20)\n",
      "plt.title('lQSO probability of dud')\n",
      "plt.figure()\n",
      "_ = plt.hist(pdud_dud,bins=20)\n",
      "plt.title('dud probability of dud')"
     ],
     "language": "python",
     "metadata": {},
     "outputs": [
      {
       "metadata": {},
       "output_type": "pyout",
       "prompt_number": 59,
       "text": [
        "<matplotlib.text.Text at 0x10a6dc4d0>"
       ]
      },
      {
       "metadata": {},
       "output_type": "display_data",
       "png": "[encoded data removed]",
       "text": [
        "<matplotlib.figure.Figure at 0x10c0e6c50>"
       ]
      },
      {
       "metadata": {},
       "output_type": "display_data",
       "png": "[encoded data removed]",
       "text": [
        "<matplotlib.figure.Figure at 0x10a712290>"
       ]
      },
      {
       "metadata": {},
       "output_type": "display_data",
       "png": "[encoded data removed]",
       "text": [
        "<matplotlib.figure.Figure at 0x10c4ade50>"
       ]
      },
      {
       "metadata": {},
       "output_type": "display_data",
       "png": "[encoded data removed]",
       "text": [
        "<matplotlib.figure.Figure at 0x10c4b0d90>"
       ]
      }
     ],
     "prompt_number": 59
    },
    {
     "cell_type": "code",
     "collapsed": false,
     "input": [
      "_ = plt.hist(np.sum(np.exp(lQSO_probs_test),axis=1),bins=50)\n",
      "plt.figure()\n",
      "_ = plt.hist(np.sum(np.exp(dud_probs_test),axis=1),bins=50)"
     ],
     "language": "python",
     "metadata": {},
     "outputs": [
      {
       "metadata": {},
       "output_type": "display_data",
       "png": "[encoded data removed]",
       "text": [
        "<matplotlib.figure.Figure at 0x10a6dcb10>"
       ]
      },
      {
       "metadata": {},
       "output_type": "display_data",
       "png": "[encoded data removed]",
       "text": [
        "<matplotlib.figure.Figure at 0x10a6f1110>"
       ]
      }
     ],
     "prompt_number": 32
    },
    {
     "cell_type": "code",
     "collapsed": false,
     "input": [
      "\"\"\"\n",
      "class Dataset(object):\n",
      "\n",
      "    __init__(self)\n",
      "        #fits header properties\n",
      "    \n",
      "    plot(self):\n",
      "        #make triangle plot; overlay on current triangle plot, if any.\n",
      "        return\n",
      "\"\"\"\n",
      "# import PS1QLS\n",
      "from astroML.density_estimation import XDGMM\n",
      "from astroML.plotting.tools import draw_ellipse\n",
      "import triangle\n",
      "\n",
      "class Classifier(object):\n",
      "\n",
      "    def __init__(self,algorithm='XD'):\n",
      "        if algorithm == 'XD':\n",
      "            self.xdmodel = XDGMM(n_components=7)\n",
      "        else: \n",
      "            print 'Not implemented yet!'\n",
      "        \n",
      "        return\n",
      "    \n",
      "    def train(self,training,covmatlist):\n",
      "        self.xdmodel.fit(training, covmatlist.transpose())\n",
      "        return\n",
      "    \n",
      "    def test(self,test):\n",
      "        self.xdprobs=np.sum(np.exp(self.xdmodel.logprob_a(test, covmatlist.transpose())),axis=1)\n",
      "        return\n",
      "    \n",
      "    def report(self,truth):\n",
      "        return\n",
      "        \n",
      "    \n",
      "lQSOModel = Classifier(algorithm='XD')\n",
      "dudModel = Classifier(algorithm='XD')\n",
      "lQSOModel.train(noisyData,covmatlist) #\n",
      "RF.test(noisyData)            # calculates classification probabilities\n",
      "plt.hist(RF.xdprobs,bins=20)\n",
      "#RF.report()                  # make plots, report statistics etc.\n",
      "#RF.save()                    # pickles itself\n",
      "#RF.score(testtruth)          # plots an ROC curve    "
     ],
     "language": "python",
     "metadata": {},
     "outputs": []
    },
    {
     "cell_type": "code",
     "collapsed": false,
     "input": [
      "test = fits.getdata('/Users/mbaumer/Downloads/xdcore_000094.fits')"
     ],
     "language": "python",
     "metadata": {},
     "outputs": [],
     "prompt_number": 3
    },
    {
     "cell_type": "code",
     "collapsed": false,
     "input": [
      "print test['PSTAR']"
     ],
     "language": "python",
     "metadata": {},
     "outputs": [
      {
       "output_type": "stream",
       "stream": "stdout",
       "text": [
        "[  9.99997541e-01   8.95314494e-01   9.99934148e-01   9.99997841e-01\n",
        "   9.99999673e-01   9.96007379e-01   9.99357509e-01   9.58773115e-01\n",
        "   9.78032992e-01   9.99999935e-01   9.99992040e-01   9.84752323e-01\n",
        "   9.99999811e-01   9.82736030e-01   9.97955201e-01   9.68154739e-01\n",
        "   9.69744004e-01   9.62718035e-01   9.99999638e-01   9.54606012e-01\n",
        "   9.95664419e-01   9.99735642e-01   9.93665839e-01   9.06727273e-01\n",
        "   9.96384841e-01   9.92775939e-01   9.98635999e-01   9.74086846e-01\n",
        "   9.55341178e-01   9.96779529e-01   9.95995741e-01   9.99999520e-01\n",
        "   9.95541248e-01   9.69512259e-01   9.85131411e-01   9.99144071e-01\n",
        "   9.98621358e-01   9.63278701e-01   9.95366692e-01   9.96590614e-01\n",
        "   9.99997675e-01   9.99966208e-01   9.99999029e-01   9.99998551e-01\n",
        "   9.98420483e-01   9.98211327e-01   7.59943861e-01   9.99642012e-01\n",
        "   9.99967553e-01   9.99042967e-01   9.99926608e-01   9.97905125e-01\n",
        "   9.99867681e-01   9.99999283e-01   9.99998483e-01   9.99916176e-01\n",
        "   9.99982659e-01   9.99982704e-01   9.99938674e-01   9.99448803e-01\n",
        "   9.85194597e-01   9.99597690e-01   9.99999788e-01   9.85866426e-01\n",
        "   9.99999593e-01   9.68365597e-01   9.99669780e-01   9.98661863e-01\n",
        "   9.30375026e-01   9.99993674e-01   9.99844595e-01   9.99998758e-01\n",
        "   9.99854056e-01   9.99998013e-01   9.99999726e-01   9.85785875e-01\n",
        "   9.99997676e-01   9.39065233e-01   9.97968333e-01   8.76457046e-01\n",
        "   9.99420177e-01   9.58320256e-01   9.87131633e-01   9.97924741e-01\n",
        "   9.41722131e-01   9.89521962e-01   9.42695233e-01   9.98201097e-01\n",
        "   9.96642257e-01   9.71332477e-01   9.98406131e-01   9.29445004e-01\n",
        "   9.99368828e-01   9.99998855e-01   9.99999936e-01   9.80593199e-01\n",
        "   9.91830268e-01   9.99148204e-01   9.34737533e-01   9.99893143e-01\n",
        "   9.97666168e-01   9.99584944e-01   9.92825999e-01   9.57939532e-01\n",
        "   9.93771675e-01   9.99999861e-01   5.70500940e-01   9.99953714e-01\n",
        "   9.04241452e-01   9.97961419e-01   9.50483049e-01   9.99997897e-01\n",
        "   9.98356604e-01   9.24108100e-01   9.99994345e-01   9.99985468e-01\n",
        "   9.95713391e-01   9.46698142e-01   9.96787771e-01   9.99552557e-01\n",
        "   9.99388376e-01   9.99999952e-01   9.97716498e-01   9.99584984e-01\n",
        "   9.99732994e-01   9.99999350e-01   9.91412855e-01   9.88148854e-01\n",
        "   9.99976519e-01   9.99996731e-01   9.77218988e-01   9.99996748e-01\n",
        "   9.83202264e-01   9.85361669e-01   9.99956840e-01   9.99357131e-01\n",
        "   9.99146813e-01   9.99686271e-01   9.99816246e-01   9.99998200e-01\n",
        "   9.99989389e-01   9.99996551e-01   9.48961668e-01   9.76336522e-01\n",
        "   9.99922847e-01   9.69786908e-01   9.99999158e-01   9.99999971e-01\n",
        "   5.51536499e-02   9.10727088e-01   9.99723265e-01   9.99901978e-01\n",
        "   9.99361450e-01   6.92338276e-01   9.77033618e-01   9.99674249e-01\n",
        "   9.99994296e-01   9.83436034e-01   9.79944250e-01   9.99681925e-01\n",
        "   9.68644192e-01   9.89285007e-01   9.95323837e-01   9.79201141e-01\n",
        "   9.96231319e-01   9.99998524e-01   9.68127951e-01   9.94286020e-01\n",
        "   9.99042082e-01   9.90707638e-01   1.10488201e-05   9.99177465e-01\n",
        "   9.85825618e-01   9.94181713e-01   9.98678199e-01   9.59321831e-01\n",
        "   9.99949045e-01   9.99977521e-01   9.99973662e-01   9.99999958e-01\n",
        "   9.99999525e-01   9.70630856e-01   9.82679393e-01   9.99999846e-01\n",
        "   9.98757394e-01   9.99997405e-01   9.99040703e-01   9.99933065e-01\n",
        "   9.92785695e-01   9.97929237e-01   9.97481966e-01]\n"
       ]
      }
     ],
     "prompt_number": 8
    },
    {
     "cell_type": "markdown",
     "metadata": {},
     "source": [
      "Hmm, from looking at Bovy's XDQSO catalog, it's clear that the XD \"density factor\" can be greater than one. In my analysis of Adri's sims I see as high as 54!"
     ]
    },
    {
     "cell_type": "code",
     "collapsed": false,
     "input": [],
     "language": "python",
     "metadata": {},
     "outputs": []
    }
   ],
   "metadata": {}
  }
 ]
}