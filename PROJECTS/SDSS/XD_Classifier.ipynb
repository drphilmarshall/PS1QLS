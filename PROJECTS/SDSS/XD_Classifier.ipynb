{
 "metadata": {
  "name": "",
  "signature": "sha256:3001f5e695542f274f566676f3020cc6be8a2b2fef56d8ea403d9eae5202ad5a"
 },
 "nbformat": 3,
 "nbformat_minor": 0,
 "worksheets": [
  {
   "cells": [
    {
     "cell_type": "code",
     "collapsed": false,
     "input": [
      "%matplotlib inline\n",
      "import matplotlib.pyplot as plt\n",
      "import numpy as np\n",
      "from sklearn.cross_validation import train_test_split\n",
      "from astroML.density_estimation import XDGMM\n",
      "from astropy.io import fits\n",
      "import triangle\n",
      "dataLoc = '../../'\n",
      "\n",
      "labels = ['ID','mag_model_i','g-r', 'r-i', 'i-z', 'WISE1', 'WISE2' ]\n",
      "pQSO = np.loadtxt(dataLoc+'pQSO/pSDSScolmag.txt')[:,2:]\n",
      "lQSO = np.loadtxt(dataLoc+'lQSO/SDSScolmag.txt')[:,2:]\n",
      "sinQSO = np.loadtxt(dataLoc+'sinQSO/sSDSScolmag.txt')[:,2:]\n",
      "unlQSO = np.loadtxt(dataLoc+'unlQSO/nlSDSScolmag.txt')[:,2:]\n",
      "unlQSO[:,3:5] = -unlQSO[:,3:5] #bug in WISE magnitudes for this file\n",
      "\n",
      "duds = np.concatenate((pQSO,unlQSO,sinQSO),axis=0)\n",
      "data = np.concatenate((lQSO,duds),axis=0) #all sims\n",
      "truth = np.concatenate((np.ones(lQSO.shape[0]),np.zeros(duds.shape[0])),axis=0)\n",
      "\n",
      "numPts = data.shape[0]\n",
      "\n",
      "(lQSO_train, lQSO_test) = train_test_split(lQSO, test_size=0.25)\n",
      "(dud_train, dud_test) = train_test_split(duds, test_size=0.25)"
     ],
     "language": "python",
     "metadata": {},
     "outputs": [],
     "prompt_number": 1
    },
    {
     "cell_type": "code",
     "collapsed": false,
     "input": [
      "perturbingSigma = .1\n",
      "nFeatures=data.shape[1]\n",
      "z = zip(np.random.normal(scale=perturbingSigma,size=nFeatures),np.random.normal(scale=perturbingSigma,size=nFeatures))\n",
      "covmat = np.cov(np.round(np.array(z),decimals=4))\n",
      "covmat = perturbingSigma*np.array([[1 ,.1, .1, .1, .1],\n",
      " [.1, 1, .1, .1, .1],\n",
      " [.1, .1 ,1 ,.1, .1],\n",
      " [.1, .1 ,.1 ,1, .1],\n",
      " [.1, .1 ,.1, .1, 1]])\n",
      "\n",
      "\n",
      "print covmat\n",
      "print np.linalg.inv(covmat)\n",
      "print np.linalg.inv(np.linalg.inv(covmat))\n",
      "\n",
      "def noisify(data,covmat):\n",
      "\n",
      "    nFeatures = data.shape[1]\n",
      "\n",
      "    #perturb data\n",
      "    perturbations = np.random.multivariate_normal(np.zeros(nFeatures),covmat,size=data.shape[0])\n",
      "    noisyData = data + perturbations\n",
      "\n",
      "    #XD function needs to be delivered a list of covariance matrices\n",
      "    covmatlist = np.dstack((covmat,covmat))\n",
      "    while covmatlist.shape[2] < data.shape[0]:\n",
      "        covmatlist = np.dstack((covmatlist,covmat))\n",
      "    return noisyData, covmatlist\n",
      "    \n",
      "noisy_lQSO_train, covmatlist_lQSO_train = noisify(lQSO_train,covmat)\n",
      "noisy_dud_train, covmatlist_dud_train = noisify(dud_train,covmat)\n",
      "noisy_lQSO_test, covmatlist_lQSO_test = noisify(lQSO_test,covmat)\n",
      "noisy_dud_test, covmatlist_dud_test = noisify(dud_test,covmat)\n",
      "\n",
      "#fit indep XD models to both signal and duds\n",
      "lQSO_model = XDGMM(n_components=30,verbose=True)\n",
      "dud_model = XDGMM(n_components=30,verbose=True)\n",
      "lQSO_model.fit(noisy_lQSO_train, covmatlist_lQSO_train.transpose())\n",
      "dud_model.fit(noisy_dud_train, covmatlist_dud_train.transpose())"
     ],
     "language": "python",
     "metadata": {},
     "outputs": [
      {
       "output_type": "stream",
       "stream": "stdout",
       "text": [
        "[[ 0.1   0.01  0.01  0.01  0.01]\n",
        " [ 0.01  0.1   0.01  0.01  0.01]\n",
        " [ 0.01  0.01  0.1   0.01  0.01]\n",
        " [ 0.01  0.01  0.01  0.1   0.01]\n",
        " [ 0.01  0.01  0.01  0.01  0.1 ]]\n",
        "[[ 10.31746032  -0.79365079  -0.79365079  -0.79365079  -0.79365079]\n",
        " [ -0.79365079  10.31746032  -0.79365079  -0.79365079  -0.79365079]\n",
        " [ -0.79365079  -0.79365079  10.31746032  -0.79365079  -0.79365079]\n",
        " [ -0.79365079  -0.79365079  -0.79365079  10.31746032  -0.79365079]\n",
        " [ -0.79365079  -0.79365079  -0.79365079  -0.79365079  10.31746032]]"
       ]
      },
      {
       "output_type": "stream",
       "stream": "stdout",
       "text": [
        "\n",
        "[[ 0.1   0.01  0.01  0.01  0.01]\n",
        " [ 0.01  0.1   0.01  0.01  0.01]\n",
        " [ 0.01  0.01  0.1   0.01  0.01]\n",
        " [ 0.01  0.01  0.01  0.1   0.01]\n",
        " [ 0.01  0.01  0.01  0.01  0.1 ]]\n",
        "1: log(L) = 124.64"
       ]
      },
      {
       "output_type": "stream",
       "stream": "stdout",
       "text": [
        "\n",
        "    (3.4 sec)\n",
        "2: log(L) = 159.87"
       ]
      },
      {
       "output_type": "stream",
       "stream": "stdout",
       "text": [
        "\n",
        "    (3.4 sec)\n",
        "3: log(L) = 179.89"
       ]
      },
      {
       "output_type": "stream",
       "stream": "stdout",
       "text": [
        "\n",
        "    (3.5 sec)\n",
        "4: log(L) = 192.79"
       ]
      },
      {
       "output_type": "stream",
       "stream": "stdout",
       "text": [
        "\n",
        "    (3.4 sec)\n",
        "5: log(L) = 201.77"
       ]
      },
      {
       "output_type": "stream",
       "stream": "stdout",
       "text": [
        "\n",
        "    (3.5 sec)\n",
        "6: log(L) = 208.39"
       ]
      },
      {
       "output_type": "stream",
       "stream": "stdout",
       "text": [
        "\n",
        "    (3.5 sec)\n",
        "7: log(L) = 213.46"
       ]
      },
      {
       "output_type": "stream",
       "stream": "stdout",
       "text": [
        "\n",
        "    (3.5 sec)\n",
        "8: log(L) = 217.48"
       ]
      },
      {
       "output_type": "stream",
       "stream": "stdout",
       "text": [
        "\n",
        "    (3.6 sec)\n",
        "9: log(L) = 220.74"
       ]
      },
      {
       "output_type": "stream",
       "stream": "stdout",
       "text": [
        "\n",
        "    (3.5 sec)\n",
        "10: log(L) = 223.43"
       ]
      },
      {
       "output_type": "stream",
       "stream": "stdout",
       "text": [
        "\n",
        "    (3.4 sec)\n",
        "11: log(L) = 225.69"
       ]
      },
      {
       "output_type": "stream",
       "stream": "stdout",
       "text": [
        "\n",
        "    (3.4 sec)\n",
        "12: log(L) = 227.62"
       ]
      },
      {
       "output_type": "stream",
       "stream": "stdout",
       "text": [
        "\n",
        "    (3.5 sec)\n",
        "13: log(L) = 229.27"
       ]
      },
      {
       "output_type": "stream",
       "stream": "stdout",
       "text": [
        "\n",
        "    (3.5 sec)\n",
        "14: log(L) = 230.7"
       ]
      },
      {
       "output_type": "stream",
       "stream": "stdout",
       "text": [
        "\n",
        "    (3.5 sec)\n",
        "15: log(L) = 231.95"
       ]
      },
      {
       "output_type": "stream",
       "stream": "stdout",
       "text": [
        "\n",
        "    (3.4 sec)\n",
        "16: log(L) = 233.05"
       ]
      },
      {
       "output_type": "stream",
       "stream": "stdout",
       "text": [
        "\n",
        "    (3.4 sec)\n",
        "17: log(L) = 234.02"
       ]
      },
      {
       "output_type": "stream",
       "stream": "stdout",
       "text": [
        "\n",
        "    (3.5 sec)\n",
        "18: log(L) = 234.88"
       ]
      },
      {
       "output_type": "stream",
       "stream": "stdout",
       "text": [
        "\n",
        "    (3.4 sec)\n",
        "19: log(L) = 235.66"
       ]
      },
      {
       "output_type": "stream",
       "stream": "stdout",
       "text": [
        "\n",
        "    (3.4 sec)\n",
        "20: log(L) = 236.35"
       ]
      },
      {
       "output_type": "stream",
       "stream": "stdout",
       "text": [
        "\n",
        "    (3.4 sec)\n",
        "21: log(L) = 236.96"
       ]
      },
      {
       "output_type": "stream",
       "stream": "stdout",
       "text": [
        "\n",
        "    (3.4 sec)\n",
        "22: log(L) = 237.52"
       ]
      },
      {
       "output_type": "stream",
       "stream": "stdout",
       "text": [
        "\n",
        "    (3.6 sec)\n",
        "23: log(L) = 238.02"
       ]
      },
      {
       "output_type": "stream",
       "stream": "stdout",
       "text": [
        "\n",
        "    (3.4 sec)\n",
        "24: log(L) = 238.47"
       ]
      },
      {
       "output_type": "stream",
       "stream": "stdout",
       "text": [
        "\n",
        "    (3.5 sec)\n",
        "25: log(L) = 238.87"
       ]
      },
      {
       "output_type": "stream",
       "stream": "stdout",
       "text": [
        "\n",
        "    (3.4 sec)\n",
        "26: log(L) = 239.23"
       ]
      },
      {
       "output_type": "stream",
       "stream": "stdout",
       "text": [
        "\n",
        "    (3.5 sec)\n",
        "27: log(L) = 239.55"
       ]
      },
      {
       "output_type": "stream",
       "stream": "stdout",
       "text": [
        "\n",
        "    (3.5 sec)\n",
        "28: log(L) = 239.83"
       ]
      },
      {
       "output_type": "stream",
       "stream": "stdout",
       "text": [
        "\n",
        "    (3.5 sec)\n",
        "29: log(L) = 240.07"
       ]
      },
      {
       "output_type": "stream",
       "stream": "stdout",
       "text": [
        "\n",
        "    (3.4 sec)\n",
        "30: log(L) = 240.28"
       ]
      },
      {
       "output_type": "stream",
       "stream": "stdout",
       "text": [
        "\n",
        "    (3.4 sec)\n",
        "31: log(L) = 240.45"
       ]
      },
      {
       "output_type": "stream",
       "stream": "stdout",
       "text": [
        "\n",
        "    (3.5 sec)\n",
        "32: log(L) = 240.59"
       ]
      },
      {
       "output_type": "stream",
       "stream": "stdout",
       "text": [
        "\n",
        "    (3.5 sec)\n",
        "33: log(L) = 240.71"
       ]
      },
      {
       "output_type": "stream",
       "stream": "stdout",
       "text": [
        "\n",
        "    (3.4 sec)\n",
        "34: log(L) = 240.79"
       ]
      },
      {
       "output_type": "stream",
       "stream": "stdout",
       "text": [
        "\n",
        "    (3.4 sec)\n",
        "35: log(L) = 240.85"
       ]
      },
      {
       "output_type": "stream",
       "stream": "stdout",
       "text": [
        "\n",
        "    (3.4 sec)\n",
        "36: log(L) = 240.87"
       ]
      },
      {
       "output_type": "stream",
       "stream": "stdout",
       "text": [
        "\n",
        "    (3.4 sec)\n",
        "37: log(L) = 240.88"
       ]
      },
      {
       "output_type": "stream",
       "stream": "stdout",
       "text": [
        "\n",
        "    (3.4 sec)\n",
        "38: log(L) = 240.85"
       ]
      },
      {
       "output_type": "stream",
       "stream": "stdout",
       "text": [
        "\n",
        "    (3.4 sec)\n",
        "1: log(L) = -450.6"
       ]
      },
      {
       "output_type": "stream",
       "stream": "stdout",
       "text": [
        "\n",
        "    (16 sec)\n",
        "2: log(L) = -299.61"
       ]
      },
      {
       "output_type": "stream",
       "stream": "stdout",
       "text": [
        "\n",
        "    (16 sec)\n",
        "3: log(L) = -221.41"
       ]
      },
      {
       "output_type": "stream",
       "stream": "stdout",
       "text": [
        "\n",
        "    (16 sec)\n",
        "4: log(L) = -175.58"
       ]
      },
      {
       "output_type": "stream",
       "stream": "stdout",
       "text": [
        "\n",
        "    (16 sec)\n",
        "5: log(L) = -146.35"
       ]
      },
      {
       "output_type": "stream",
       "stream": "stdout",
       "text": [
        "\n",
        "    (16 sec)\n",
        "6: log(L) = -126.54"
       ]
      },
      {
       "output_type": "stream",
       "stream": "stdout",
       "text": [
        "\n",
        "    (16 sec)\n",
        "7: log(L) = -112.5"
       ]
      },
      {
       "output_type": "stream",
       "stream": "stdout",
       "text": [
        "\n",
        "    (16 sec)\n",
        "8: log(L) = -102.18"
       ]
      },
      {
       "output_type": "stream",
       "stream": "stdout",
       "text": [
        "\n",
        "    (16 sec)\n",
        "9: log(L) = -94.334"
       ]
      },
      {
       "output_type": "stream",
       "stream": "stdout",
       "text": [
        "\n",
        "    (16 sec)\n",
        "10: log(L) = -88.178"
       ]
      },
      {
       "output_type": "stream",
       "stream": "stdout",
       "text": [
        "\n",
        "    (16 sec)\n",
        "11: log(L) = -83.193"
       ]
      },
      {
       "output_type": "stream",
       "stream": "stdout",
       "text": [
        "\n",
        "    (16 sec)\n",
        "12: log(L) = -79.03"
       ]
      },
      {
       "output_type": "stream",
       "stream": "stdout",
       "text": [
        "\n",
        "    (16 sec)\n",
        "13: log(L) = -75.454"
       ]
      },
      {
       "output_type": "stream",
       "stream": "stdout",
       "text": [
        "\n",
        "    (16 sec)\n",
        "14: log(L) = -72.305"
       ]
      },
      {
       "output_type": "stream",
       "stream": "stdout",
       "text": [
        "\n",
        "    (16 sec)\n",
        "15: log(L) = -69.476"
       ]
      },
      {
       "output_type": "stream",
       "stream": "stdout",
       "text": [
        "\n",
        "    (16 sec)\n",
        "16: log(L) = -66.891"
       ]
      },
      {
       "output_type": "stream",
       "stream": "stdout",
       "text": [
        "\n",
        "    (16 sec)\n",
        "17: log(L) = -64.499"
       ]
      },
      {
       "output_type": "stream",
       "stream": "stdout",
       "text": [
        "\n",
        "    (16 sec)\n",
        "18: log(L) = -62.263"
       ]
      },
      {
       "output_type": "stream",
       "stream": "stdout",
       "text": [
        "\n",
        "    (16 sec)\n",
        "19: log(L) = -60.158"
       ]
      },
      {
       "output_type": "stream",
       "stream": "stdout",
       "text": [
        "\n",
        "    (17 sec)\n",
        "20: log(L) = -58.166"
       ]
      },
      {
       "output_type": "stream",
       "stream": "stdout",
       "text": [
        "\n",
        "    (16 sec)\n",
        "21: log(L) = -56.273"
       ]
      },
      {
       "output_type": "stream",
       "stream": "stdout",
       "text": [
        "\n",
        "    (16 sec)\n",
        "22: log(L) = -54.469"
       ]
      },
      {
       "output_type": "stream",
       "stream": "stdout",
       "text": [
        "\n",
        "    (16 sec)\n",
        "23: log(L) = -52.747"
       ]
      },
      {
       "output_type": "stream",
       "stream": "stdout",
       "text": [
        "\n",
        "    (16 sec)\n",
        "24: log(L) = -51.102"
       ]
      },
      {
       "output_type": "stream",
       "stream": "stdout",
       "text": [
        "\n",
        "    (16 sec)\n",
        "25: log(L) = -49.528"
       ]
      },
      {
       "output_type": "stream",
       "stream": "stdout",
       "text": [
        "\n",
        "    (16 sec)\n",
        "26: log(L) = -48.023"
       ]
      },
      {
       "output_type": "stream",
       "stream": "stdout",
       "text": [
        "\n",
        "    (16 sec)\n",
        "27: log(L) = -46.582"
       ]
      },
      {
       "output_type": "stream",
       "stream": "stdout",
       "text": [
        "\n",
        "    (16 sec)\n",
        "28: log(L) = -45.205"
       ]
      },
      {
       "output_type": "stream",
       "stream": "stdout",
       "text": [
        "\n",
        "    (16 sec)\n",
        "29: log(L) = -43.887"
       ]
      },
      {
       "output_type": "stream",
       "stream": "stdout",
       "text": [
        "\n",
        "    (16 sec)\n",
        "30: log(L) = -42.628"
       ]
      },
      {
       "output_type": "stream",
       "stream": "stdout",
       "text": [
        "\n",
        "    (16 sec)\n",
        "31: log(L) = -41.425"
       ]
      },
      {
       "output_type": "stream",
       "stream": "stdout",
       "text": [
        "\n",
        "    (16 sec)\n",
        "32: log(L) = -40.275"
       ]
      },
      {
       "output_type": "stream",
       "stream": "stdout",
       "text": [
        "\n",
        "    (16 sec)\n",
        "33: log(L) = -39.178"
       ]
      },
      {
       "output_type": "stream",
       "stream": "stdout",
       "text": [
        "\n",
        "    (16 sec)\n",
        "34: log(L) = -38.13"
       ]
      },
      {
       "output_type": "stream",
       "stream": "stdout",
       "text": [
        "\n",
        "    (16 sec)\n",
        "35: log(L) = -37.13"
       ]
      },
      {
       "output_type": "stream",
       "stream": "stdout",
       "text": [
        "\n",
        "    (16 sec)\n",
        "36: log(L) = -36.177"
       ]
      },
      {
       "output_type": "stream",
       "stream": "stdout",
       "text": [
        "\n",
        "    (16 sec)\n",
        "37: log(L) = -35.266"
       ]
      },
      {
       "output_type": "stream",
       "stream": "stdout",
       "text": [
        "\n",
        "    (16 sec)\n",
        "38: log(L) = -34.398"
       ]
      },
      {
       "output_type": "stream",
       "stream": "stdout",
       "text": [
        "\n",
        "    (16 sec)\n",
        "39: log(L) = -33.569"
       ]
      },
      {
       "output_type": "stream",
       "stream": "stdout",
       "text": [
        "\n",
        "    (16 sec)\n",
        "40: log(L) = -32.777"
       ]
      },
      {
       "output_type": "stream",
       "stream": "stdout",
       "text": [
        "\n",
        "    (16 sec)\n",
        "41: log(L) = -32.021"
       ]
      },
      {
       "output_type": "stream",
       "stream": "stdout",
       "text": [
        "\n",
        "    (16 sec)\n",
        "42: log(L) = -31.297"
       ]
      },
      {
       "output_type": "stream",
       "stream": "stdout",
       "text": [
        "\n",
        "    (16 sec)\n",
        "43: log(L) = -30.605"
       ]
      },
      {
       "output_type": "stream",
       "stream": "stdout",
       "text": [
        "\n",
        "    (16 sec)\n",
        "44: log(L) = -29.942"
       ]
      },
      {
       "output_type": "stream",
       "stream": "stdout",
       "text": [
        "\n",
        "    (16 sec)\n",
        "45: log(L) = -29.306"
       ]
      },
      {
       "output_type": "stream",
       "stream": "stdout",
       "text": [
        "\n",
        "    (16 sec)\n",
        "46: log(L) = -28.696"
       ]
      },
      {
       "output_type": "stream",
       "stream": "stdout",
       "text": [
        "\n",
        "    (16 sec)\n",
        "47: log(L) = -28.109"
       ]
      },
      {
       "output_type": "stream",
       "stream": "stdout",
       "text": [
        "\n",
        "    (16 sec)\n",
        "48: log(L) = -27.545"
       ]
      },
      {
       "output_type": "stream",
       "stream": "stdout",
       "text": [
        "\n",
        "    (16 sec)\n",
        "49: log(L) = -27.001"
       ]
      },
      {
       "output_type": "stream",
       "stream": "stdout",
       "text": [
        "\n",
        "    (16 sec)\n",
        "50: log(L) = -26.477"
       ]
      },
      {
       "output_type": "stream",
       "stream": "stdout",
       "text": [
        "\n",
        "    (16 sec)\n",
        "51: log(L) = -25.972"
       ]
      },
      {
       "output_type": "stream",
       "stream": "stdout",
       "text": [
        "\n",
        "    (16 sec)\n",
        "52: log(L) = -25.483"
       ]
      },
      {
       "output_type": "stream",
       "stream": "stdout",
       "text": [
        "\n",
        "    (16 sec)\n",
        "53: log(L) = -25.012"
       ]
      },
      {
       "output_type": "stream",
       "stream": "stdout",
       "text": [
        "\n",
        "    (16 sec)\n",
        "54: log(L) = -24.556"
       ]
      },
      {
       "output_type": "stream",
       "stream": "stdout",
       "text": [
        "\n",
        "    (16 sec)\n",
        "55: log(L) = -24.115"
       ]
      },
      {
       "output_type": "stream",
       "stream": "stdout",
       "text": [
        "\n",
        "    (16 sec)\n",
        "56: log(L) = -23.688"
       ]
      },
      {
       "output_type": "stream",
       "stream": "stdout",
       "text": [
        "\n",
        "    (16 sec)\n",
        "57: log(L) = -23.275"
       ]
      },
      {
       "output_type": "stream",
       "stream": "stdout",
       "text": [
        "\n",
        "    (16 sec)\n",
        "58: log(L) = -22.875"
       ]
      },
      {
       "output_type": "stream",
       "stream": "stdout",
       "text": [
        "\n",
        "    (16 sec)\n",
        "59: log(L) = -22.488"
       ]
      },
      {
       "output_type": "stream",
       "stream": "stdout",
       "text": [
        "\n",
        "    (16 sec)\n",
        "60: log(L) = -22.114"
       ]
      },
      {
       "output_type": "stream",
       "stream": "stdout",
       "text": [
        "\n",
        "    (16 sec)\n",
        "61: log(L) = -21.751"
       ]
      },
      {
       "output_type": "stream",
       "stream": "stdout",
       "text": [
        "\n",
        "    (16 sec)\n",
        "62: log(L) = -21.4"
       ]
      },
      {
       "output_type": "stream",
       "stream": "stdout",
       "text": [
        "\n",
        "    (16 sec)\n",
        "63: log(L) = -21.06"
       ]
      },
      {
       "output_type": "stream",
       "stream": "stdout",
       "text": [
        "\n",
        "    (16 sec)\n",
        "64: log(L) = -20.732"
       ]
      },
      {
       "output_type": "stream",
       "stream": "stdout",
       "text": [
        "\n",
        "    (16 sec)\n",
        "65: log(L) = -20.413"
       ]
      },
      {
       "output_type": "stream",
       "stream": "stdout",
       "text": [
        "\n",
        "    (16 sec)\n",
        "66: log(L) = -20.106"
       ]
      },
      {
       "output_type": "stream",
       "stream": "stdout",
       "text": [
        "\n",
        "    (16 sec)\n",
        "67: log(L) = -19.808"
       ]
      },
      {
       "output_type": "stream",
       "stream": "stdout",
       "text": [
        "\n",
        "    (16 sec)\n",
        "68: log(L) = -19.521"
       ]
      },
      {
       "output_type": "stream",
       "stream": "stdout",
       "text": [
        "\n",
        "    (16 sec)\n",
        "69: log(L) = -19.242"
       ]
      },
      {
       "output_type": "stream",
       "stream": "stdout",
       "text": [
        "\n",
        "    (16 sec)\n",
        "70: log(L) = -18.974"
       ]
      },
      {
       "output_type": "stream",
       "stream": "stdout",
       "text": [
        "\n",
        "    (16 sec)\n",
        "71: log(L) = -18.715"
       ]
      },
      {
       "output_type": "stream",
       "stream": "stdout",
       "text": [
        "\n",
        "    (16 sec)\n",
        "72: log(L) = -18.464"
       ]
      },
      {
       "output_type": "stream",
       "stream": "stdout",
       "text": [
        "\n",
        "    (16 sec)\n",
        "73: log(L) = -18.223"
       ]
      },
      {
       "output_type": "stream",
       "stream": "stdout",
       "text": [
        "\n",
        "    (16 sec)\n",
        "74: log(L) = -17.99"
       ]
      },
      {
       "output_type": "stream",
       "stream": "stdout",
       "text": [
        "\n",
        "    (16 sec)\n",
        "75: log(L) = -17.766"
       ]
      },
      {
       "output_type": "stream",
       "stream": "stdout",
       "text": [
        "\n",
        "    (16 sec)\n",
        "76: log(L) = -17.55"
       ]
      },
      {
       "output_type": "stream",
       "stream": "stdout",
       "text": [
        "\n",
        "    (17 sec)\n",
        "77: log(L) = -17.343"
       ]
      },
      {
       "output_type": "stream",
       "stream": "stdout",
       "text": [
        "\n",
        "    (17 sec)\n",
        "78: log(L) = -17.143"
       ]
      },
      {
       "output_type": "stream",
       "stream": "stdout",
       "text": [
        "\n",
        "    (16 sec)\n",
        "79: log(L) = -16.952"
       ]
      },
      {
       "output_type": "stream",
       "stream": "stdout",
       "text": [
        "\n",
        "    (16 sec)\n",
        "80: log(L) = -16.768"
       ]
      },
      {
       "output_type": "stream",
       "stream": "stdout",
       "text": [
        "\n",
        "    (16 sec)\n",
        "81: log(L) = -16.592"
       ]
      },
      {
       "output_type": "stream",
       "stream": "stdout",
       "text": [
        "\n",
        "    (16 sec)\n",
        "82: log(L) = -16.424"
       ]
      },
      {
       "output_type": "stream",
       "stream": "stdout",
       "text": [
        "\n",
        "    (16 sec)\n",
        "83: log(L) = -16.264"
       ]
      },
      {
       "output_type": "stream",
       "stream": "stdout",
       "text": [
        "\n",
        "    (17 sec)\n",
        "84: log(L) = -16.111"
       ]
      },
      {
       "output_type": "stream",
       "stream": "stdout",
       "text": [
        "\n",
        "    (16 sec)\n",
        "85: log(L) = -15.965"
       ]
      },
      {
       "output_type": "stream",
       "stream": "stdout",
       "text": [
        "\n",
        "    (16 sec)\n",
        "86: log(L) = -15.828"
       ]
      },
      {
       "output_type": "stream",
       "stream": "stdout",
       "text": [
        "\n",
        "    (16 sec)\n",
        "87: log(L) = -15.697"
       ]
      },
      {
       "output_type": "stream",
       "stream": "stdout",
       "text": [
        "\n",
        "    (16 sec)\n",
        "88: log(L) = -15.574"
       ]
      },
      {
       "output_type": "stream",
       "stream": "stdout",
       "text": [
        "\n",
        "    (16 sec)\n",
        "89: log(L) = -15.459"
       ]
      },
      {
       "output_type": "stream",
       "stream": "stdout",
       "text": [
        "\n",
        "    (16 sec)\n",
        "90: log(L) = -15.35"
       ]
      },
      {
       "output_type": "stream",
       "stream": "stdout",
       "text": [
        "\n",
        "    (16 sec)\n",
        "91: log(L) = -15.25"
       ]
      },
      {
       "output_type": "stream",
       "stream": "stdout",
       "text": [
        "\n",
        "    (16 sec)\n",
        "92: log(L) = -15.156"
       ]
      },
      {
       "output_type": "stream",
       "stream": "stdout",
       "text": [
        "\n",
        "    (16 sec)\n",
        "93: log(L) = -15.071"
       ]
      },
      {
       "output_type": "stream",
       "stream": "stdout",
       "text": [
        "\n",
        "    (16 sec)\n",
        "94: log(L) = -14.992"
       ]
      },
      {
       "output_type": "stream",
       "stream": "stdout",
       "text": [
        "\n",
        "    (16 sec)\n",
        "95: log(L) = -14.922"
       ]
      },
      {
       "output_type": "stream",
       "stream": "stdout",
       "text": [
        "\n",
        "    (16 sec)\n",
        "96: log(L) = -14.859"
       ]
      },
      {
       "output_type": "stream",
       "stream": "stdout",
       "text": [
        "\n",
        "    (16 sec)\n",
        "97: log(L) = -14.803"
       ]
      },
      {
       "output_type": "stream",
       "stream": "stdout",
       "text": [
        "\n",
        "    (16 sec)\n",
        "98: log(L) = -14.755"
       ]
      },
      {
       "output_type": "stream",
       "stream": "stdout",
       "text": [
        "\n",
        "    (16 sec)\n",
        "99: log(L) = -14.715"
       ]
      },
      {
       "output_type": "stream",
       "stream": "stdout",
       "text": [
        "\n",
        "    (16 sec)\n",
        "100: log(L) = -14.682"
       ]
      },
      {
       "output_type": "stream",
       "stream": "stdout",
       "text": [
        "\n",
        "    (16 sec)\n"
       ]
      },
      {
       "metadata": {},
       "output_type": "pyout",
       "prompt_number": 2,
       "text": [
        "<astroML.density_estimation.xdeconv.XDGMM at 0x10a4d65d0>"
       ]
      }
     ],
     "prompt_number": 2
    },
    {
     "cell_type": "code",
     "collapsed": false,
     "input": [
      "#compute probabilities\n",
      "lQSO_sample_lQSO_model = np.sum(np.exp(lQSO_model.logprob_a(noisy_lQSO_train, covmatlist_lQSO_train.transpose())),axis=1)\n",
      "lQSO_sample_dud_model = np.sum(np.exp(dud_model.logprob_a(noisy_lQSO_train, covmatlist_lQSO_train.transpose())),axis=1)\n",
      "dud_sample_dud_model = np.sum(np.exp(dud_model.logprob_a(noisy_dud_train, covmatlist_dud_train.transpose())),axis=1)\n",
      "dud_sample_lQSO_model = np.sum(np.exp(lQSO_model.logprob_a(noisy_dud_train, covmatlist_dud_train.transpose())),axis=1)\n",
      "\n",
      "lQSO_test_lQSO_model = np.sum(np.exp(lQSO_model.logprob_a(noisy_lQSO_test, covmatlist_lQSO_test.transpose())),axis=1)\n",
      "lQSO_test_dud_model = np.sum(np.exp(dud_model.logprob_a(noisy_lQSO_test, covmatlist_lQSO_test.transpose())),axis=1)\n",
      "dud_test_dud_model = np.sum(np.exp(dud_model.logprob_a(noisy_dud_test, covmatlist_dud_test.transpose())),axis=1)\n",
      "dud_test_lQSO_model = np.sum(np.exp(lQSO_model.logprob_a(noisy_dud_test, covmatlist_dud_test.transpose())),axis=1)"
     ],
     "language": "python",
     "metadata": {},
     "outputs": [],
     "prompt_number": 14
    },
    {
     "cell_type": "code",
     "collapsed": false,
     "input": [
      "#training data probabilities\n",
      "lQSO_prior = .06007 #~1800 in a 30,000 sq deg PS1-like survey according to OM10 \n",
      "#TODO: what is the actual magnitude limit of Eric's sample data?\n",
      "dud_prior = 12300 # reciprocal number of objects in PS1 data sample from eric \n",
      "plQSO_lQSO = (lQSO_sample_lQSO_model * lQSO_prior)/(lQSO_sample_lQSO_model * lQSO_prior + lQSO_sample_dud_model * dud_prior)\n",
      "pdud_lQSO = (lQSO_sample_dud_model * dud_prior) / (lQSO_sample_lQSO_model * lQSO_prior + lQSO_sample_dud_model * dud_prior)\n",
      "plQSO_dud = (dud_sample_lQSO_model * lQSO_prior) / (dud_sample_lQSO_model * lQSO_prior + dud_sample_dud_model * dud_prior)\n",
      "pdud_dud =  (dud_sample_dud_model * dud_prior) /  (dud_sample_lQSO_model * lQSO_prior + dud_sample_dud_model * dud_prior)\n",
      "\n",
      "plQSO_lQSO_test = (lQSO_test_lQSO_model * lQSO_prior)/(lQSO_test_lQSO_model * lQSO_prior + lQSO_test_dud_model * dud_prior)\n",
      "pdud_lQSO_test = (lQSO_test_dud_model * dud_prior) / (lQSO_test_lQSO_model * lQSO_prior + lQSO_test_dud_model * dud_prior)\n",
      "plQSO_dud_test = (dud_test_lQSO_model * lQSO_prior) / (dud_test_lQSO_model * lQSO_prior + dud_test_dud_model * dud_prior)\n",
      "pdud_dud_test =  (dud_test_dud_model * dud_prior) /  (dud_test_lQSO_model * lQSO_prior + dud_test_dud_model * dud_prior)"
     ],
     "language": "python",
     "metadata": {},
     "outputs": [],
     "prompt_number": 15
    },
    {
     "cell_type": "code",
     "collapsed": false,
     "input": [
      "_ = plt.hist(plQSO_lQSO,bins=20)\n",
      "plt.title('lQSO probability of lQSO')\n",
      "plt.figure()\n",
      "_ = plt.hist(pdud_lQSO,bins=20)\n",
      "plt.title('dud probability of lQSO')\n",
      "plt.figure()\n",
      "_ = plt.hist(plQSO_dud,bins=20)\n",
      "plt.title('lQSO probability of dud')\n",
      "plt.figure()\n",
      "_ = plt.hist(pdud_dud,bins=20)\n",
      "plt.title('dud probability of dud')"
     ],
     "language": "python",
     "metadata": {},
     "outputs": [
      {
       "metadata": {},
       "output_type": "pyout",
       "prompt_number": 6,
       "text": [
        "<matplotlib.text.Text at 0x104afd190>"
       ]
      },
      {
       "metadata": {},
       "output_type": "display_data",
       "png": "[encoded data removed]",
       "text": [
        "<matplotlib.figure.Figure at 0x10a4b9d10>"
       ]
      },
      {
       "metadata": {},
       "output_type": "display_data",
       "png": "[encoded data removed]",
       "text": [
        "<matplotlib.figure.Figure at 0x10a4df650>"
       ]
      },
      {
       "metadata": {},
       "output_type": "display_data",
       "png": "[encoded data removed]",
       "text": [
        "<matplotlib.figure.Figure at 0x104a96510>"
       ]
      },
      {
       "metadata": {},
       "output_type": "display_data",
       "png": "[encoded data removed]",
       "text": [
        "<matplotlib.figure.Figure at 0x104accb50>"
       ]
      }
     ],
     "prompt_number": 6
    },
    {
     "cell_type": "code",
     "collapsed": false,
     "input": [
      "#quick comparison to random forest on noisified data\n",
      "from sklearn.ensemble import RandomForestClassifier\n",
      "from sklearn import grid_search\n",
      "from sklearn import metrics\n",
      "trialRF = RandomForestClassifier()\n",
      "\n",
      "# parameter values over which we will search\n",
      "parameters = {'n_estimators':(10,50,200),\"max_features\": [\"auto\",2,4],\n",
      "              'criterion':[\"gini\",\"entropy\"],\"min_samples_leaf\": [1,2]}\n",
      "\n",
      "# do a grid search to find the highest 3-fold CV zero-one score\n",
      "tunedRF = grid_search.GridSearchCV(trialRF, parameters, score_func=metrics.accuracy_score,\\\n",
      "                                    n_jobs = -1, cv = 3,verbose=1)\n",
      "noisy_train = np.concatenate((noisy_lQSO_train,noisy_dud_train),axis=0)\n",
      "noisy_truth = np.concatenate((np.ones(noisy_lQSO_train.shape[0]),np.zeros(noisy_dud_train.shape[0])),axis=0)\n",
      "noisy_test = np.concatenate((noisy_lQSO_test,noisy_dud_test),axis=0)\n",
      "noisy_truth_test = np.concatenate((np.ones(noisy_lQSO_test.shape[0]),np.zeros(noisy_dud_test.shape[0])),axis=0)\n",
      "optRF = tunedRF.fit(noisy_train, noisy_truth)\n",
      "\n",
      "# print the best score and estimator\n",
      "print(optRF.best_score_)\n",
      "print(optRF.best_estimator_)\n",
      "\n",
      "RF_train_probs = optRF.predict_proba(noisy_train)\n",
      "RF_test_probs = optRF.predict_proba(noisy_test)"
     ],
     "language": "python",
     "metadata": {},
     "outputs": [
      {
       "output_type": "stream",
       "stream": "stdout",
       "text": [
        "Fitting 3 folds for each of 36 candidates, totalling 108 fits\n"
       ]
      },
      {
       "output_type": "stream",
       "stream": "stderr",
       "text": [
        "/Users/mbaumer/anaconda/lib/python2.7/site-packages/sklearn/grid_search.py:466: DeprecationWarning: Passing function as ``score_func`` is deprecated and will be removed in 0.15. Either use strings or score objects.The relevant new parameter is called ''scoring''.\n",
        "  self.loss_func, self.score_func, self.scoring)\n"
       ]
      },
      {
       "output_type": "stream",
       "stream": "stderr",
       "text": [
        "[Parallel(n_jobs=-1)]: Done   1 jobs       | elapsed:    0.1s\n",
        "[Parallel(n_jobs=-1)]: Done  50 jobs       | elapsed:    4.7s\n",
        "[Parallel(n_jobs=-1)]: Done 108 out of 108 | elapsed:   17.3s finished\n"
       ]
      },
      {
       "output_type": "stream",
       "stream": "stdout",
       "text": [
        "0.881653992395\n",
        "RandomForestClassifier(bootstrap=True, compute_importances=None,\n",
        "            criterion=gini, max_depth=None, max_features=auto,\n",
        "            min_density=None, min_samples_leaf=2, min_samples_split=2,\n",
        "            n_estimators=200, n_jobs=1, oob_score=False, random_state=None,\n",
        "            verbose=0)\n"
       ]
      }
     ],
     "prompt_number": 16
    },
    {
     "cell_type": "code",
     "collapsed": false,
     "input": [
      "from sklearn.metrics import roc_curve\n",
      "trainTruth = np.concatenate([np.ones(lQSO_train.shape[0]),np.zeros(dud_train.shape[0])])\n",
      "trainProbs = np.concatenate([plQSO_lQSO,plQSO_dud])\n",
      "testProbs = np.concatenate([plQSO_lQSO_test,plQSO_dud_test])\n",
      "fpr, tpr, _ = roc_curve(trainTruth,trainProbs,pos_label=1)\n",
      "fpr_rf, tpr_rf, _ = roc_curve(trainTruth,RF_train_probs[:,1],pos_label=1)\n",
      "test_fpr_rf, test_tpr_rf, _ = roc_curve(noisy_truth_test,RF_test_probs[:,1],pos_label=1)\n",
      "test_fpr, test_tpr, _ = roc_curve(noisy_truth_test,testProbs,pos_label=1)\n",
      "plt.title('ROC Curve')\n",
      "plt.plot(fpr,tpr,'b--')\n",
      "plt.plot(fpr_rf,tpr_rf,'r--')\n",
      "plt.plot(test_fpr,test_tpr,'b')\n",
      "plt.plot(test_fpr_rf,test_tpr_rf,'r')\n",
      "plt.xlabel('FPR')\n",
      "plt.ylabel('TPR')"
     ],
     "language": "python",
     "metadata": {},
     "outputs": [
      {
       "metadata": {},
       "output_type": "pyout",
       "prompt_number": 20,
       "text": [
        "<matplotlib.text.Text at 0x10bb09dd0>"
       ]
      },
      {
       "metadata": {},
       "output_type": "display_data",
       "png": "[encoded data removed]",
       "text": [
        "<matplotlib.figure.Figure at 0x10b90d9d0>"
       ]
      }
     ],
     "prompt_number": 20
    },
    {
     "cell_type": "code",
     "collapsed": false,
     "input": [
      "test = fits.getdata('/Users/mbaumer/Downloads/xdcore_000094.fits')"
     ],
     "language": "python",
     "metadata": {},
     "outputs": [],
     "prompt_number": 3
    },
    {
     "cell_type": "code",
     "collapsed": false,
     "input": [
      "print test['PSTAR']"
     ],
     "language": "python",
     "metadata": {},
     "outputs": [
      {
       "output_type": "stream",
       "stream": "stdout",
       "text": [
        "[  9.99997541e-01   8.95314494e-01   9.99934148e-01   9.99997841e-01\n",
        "   9.99999673e-01   9.96007379e-01   9.99357509e-01   9.58773115e-01\n",
        "   9.78032992e-01   9.99999935e-01   9.99992040e-01   9.84752323e-01\n",
        "   9.99999811e-01   9.82736030e-01   9.97955201e-01   9.68154739e-01\n",
        "   9.69744004e-01   9.62718035e-01   9.99999638e-01   9.54606012e-01\n",
        "   9.95664419e-01   9.99735642e-01   9.93665839e-01   9.06727273e-01\n",
        "   9.96384841e-01   9.92775939e-01   9.98635999e-01   9.74086846e-01\n",
        "   9.55341178e-01   9.96779529e-01   9.95995741e-01   9.99999520e-01\n",
        "   9.95541248e-01   9.69512259e-01   9.85131411e-01   9.99144071e-01\n",
        "   9.98621358e-01   9.63278701e-01   9.95366692e-01   9.96590614e-01\n",
        "   9.99997675e-01   9.99966208e-01   9.99999029e-01   9.99998551e-01\n",
        "   9.98420483e-01   9.98211327e-01   7.59943861e-01   9.99642012e-01\n",
        "   9.99967553e-01   9.99042967e-01   9.99926608e-01   9.97905125e-01\n",
        "   9.99867681e-01   9.99999283e-01   9.99998483e-01   9.99916176e-01\n",
        "   9.99982659e-01   9.99982704e-01   9.99938674e-01   9.99448803e-01\n",
        "   9.85194597e-01   9.99597690e-01   9.99999788e-01   9.85866426e-01\n",
        "   9.99999593e-01   9.68365597e-01   9.99669780e-01   9.98661863e-01\n",
        "   9.30375026e-01   9.99993674e-01   9.99844595e-01   9.99998758e-01\n",
        "   9.99854056e-01   9.99998013e-01   9.99999726e-01   9.85785875e-01\n",
        "   9.99997676e-01   9.39065233e-01   9.97968333e-01   8.76457046e-01\n",
        "   9.99420177e-01   9.58320256e-01   9.87131633e-01   9.97924741e-01\n",
        "   9.41722131e-01   9.89521962e-01   9.42695233e-01   9.98201097e-01\n",
        "   9.96642257e-01   9.71332477e-01   9.98406131e-01   9.29445004e-01\n",
        "   9.99368828e-01   9.99998855e-01   9.99999936e-01   9.80593199e-01\n",
        "   9.91830268e-01   9.99148204e-01   9.34737533e-01   9.99893143e-01\n",
        "   9.97666168e-01   9.99584944e-01   9.92825999e-01   9.57939532e-01\n",
        "   9.93771675e-01   9.99999861e-01   5.70500940e-01   9.99953714e-01\n",
        "   9.04241452e-01   9.97961419e-01   9.50483049e-01   9.99997897e-01\n",
        "   9.98356604e-01   9.24108100e-01   9.99994345e-01   9.99985468e-01\n",
        "   9.95713391e-01   9.46698142e-01   9.96787771e-01   9.99552557e-01\n",
        "   9.99388376e-01   9.99999952e-01   9.97716498e-01   9.99584984e-01\n",
        "   9.99732994e-01   9.99999350e-01   9.91412855e-01   9.88148854e-01\n",
        "   9.99976519e-01   9.99996731e-01   9.77218988e-01   9.99996748e-01\n",
        "   9.83202264e-01   9.85361669e-01   9.99956840e-01   9.99357131e-01\n",
        "   9.99146813e-01   9.99686271e-01   9.99816246e-01   9.99998200e-01\n",
        "   9.99989389e-01   9.99996551e-01   9.48961668e-01   9.76336522e-01\n",
        "   9.99922847e-01   9.69786908e-01   9.99999158e-01   9.99999971e-01\n",
        "   5.51536499e-02   9.10727088e-01   9.99723265e-01   9.99901978e-01\n",
        "   9.99361450e-01   6.92338276e-01   9.77033618e-01   9.99674249e-01\n",
        "   9.99994296e-01   9.83436034e-01   9.79944250e-01   9.99681925e-01\n",
        "   9.68644192e-01   9.89285007e-01   9.95323837e-01   9.79201141e-01\n",
        "   9.96231319e-01   9.99998524e-01   9.68127951e-01   9.94286020e-01\n",
        "   9.99042082e-01   9.90707638e-01   1.10488201e-05   9.99177465e-01\n",
        "   9.85825618e-01   9.94181713e-01   9.98678199e-01   9.59321831e-01\n",
        "   9.99949045e-01   9.99977521e-01   9.99973662e-01   9.99999958e-01\n",
        "   9.99999525e-01   9.70630856e-01   9.82679393e-01   9.99999846e-01\n",
        "   9.98757394e-01   9.99997405e-01   9.99040703e-01   9.99933065e-01\n",
        "   9.92785695e-01   9.97929237e-01   9.97481966e-01]\n"
       ]
      }
     ],
     "prompt_number": 8
    },
    {
     "cell_type": "markdown",
     "metadata": {},
     "source": [
      "Hmm, from looking at Bovy's XDQSO catalog, it's clear that the XD \"density factor\" can be greater than one. In my analysis of Adri's sims I see as high as 54!"
     ]
    },
    {
     "cell_type": "code",
     "collapsed": false,
     "input": [],
     "language": "python",
     "metadata": {},
     "outputs": []
    }
   ],
   "metadata": {}
  }
 ]
}