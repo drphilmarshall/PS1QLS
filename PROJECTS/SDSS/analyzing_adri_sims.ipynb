{
 "metadata": {
  "name": "",
  "signature": "sha256:f863267feacc87b1d4b3913ddd5ae9d1d543a35a1909e34262148740df486d92"
 },
 "nbformat": 3,
 "nbformat_minor": 0,
 "worksheets": [
  {
   "cells": [
    {
     "cell_type": "code",
     "collapsed": false,
     "input": [
      "%matplotlib inline\n",
      "import matplotlib.pyplot as plt\n",
      "import numpy as np\n",
      "from IPython.html.widgets import interact, interactive, fixed\n",
      "from IPython.html import widgets\n",
      "dataLoc = '../../'\n",
      "\n",
      "labels = ['ID','mag_model_i','g-r', 'r-i', 'i-z', 'WISE1', 'WISE2' ]\n",
      "pQSO = np.loadtxt(dataLoc+'pQSO/pSDSScolmag.txt')\n",
      "lQSO = np.loadtxt(dataLoc+'lQSO/SDSScolmag.txt')\n",
      "sinQSO = np.loadtxt(dataLoc+'sinQSO/sSDSScolmag.txt')\n",
      "unlQSO = np.loadtxt(dataLoc+'unlQSO/nlSDSScolmag.txt')\n",
      "unlQSO[:,5:7] = -unlQSO[:,5:7] #bug in WISE magnitudes for this file\n",
      "\n",
      "data = np.concatenate((lQSO,pQSO,unlQSO,sinQSO),axis=0)\n",
      "numPts = data.shape[0]\n",
      "data = data[:,1:] #don't use IDs"
     ],
     "language": "python",
     "metadata": {},
     "outputs": [],
     "prompt_number": 8
    },
    {
     "cell_type": "markdown",
     "metadata": {},
     "source": [
      "##Exploring Adri's 6-feature dataset"
     ]
    },
    {
     "cell_type": "code",
     "collapsed": false,
     "input": [
      "import brewer2mpl\n",
      "from IPython.display import display\n",
      "bmap = brewer2mpl.get_map('Set1', 'qualitative', 4)\n",
      "col = bmap.mpl_colors\n",
      "\n",
      "def compare(x,y):\n",
      "    plt.figure()\n",
      "    plt.scatter(pQSO[:,x],pQSO[:,y],c=col[1],alpha=.75,label='QSO+QSO Alignment')\n",
      "    plt.scatter(lQSO[:,x],lQSO[:,y],c=col[0],alpha=.75,label='Lensed QSO')\n",
      "    plt.scatter(sinQSO[:,x],sinQSO[:,y],c=col[2],alpha=.75,label='Single QSO')\n",
      "    plt.scatter(unlQSO[:,x],unlQSO[:,y],c=col[3],alpha=.75,label='QSO+LRG Alignment')\n",
      "    plt.xlabel(labels[x])\n",
      "    plt.ylabel(labels[y])\n",
      "    plt.legend(numpoints=1,bbox_to_anchor=(1.05, 1), loc=2, borderaxespad=0.)"
     ],
     "language": "python",
     "metadata": {},
     "outputs": [],
     "prompt_number": 9
    },
    {
     "cell_type": "code",
     "collapsed": false,
     "input": [
      "interact(compare,x=(0,6),y=(0,6))"
     ],
     "language": "python",
     "metadata": {},
     "outputs": [
      {
       "metadata": {},
       "output_type": "pyout",
       "prompt_number": 10,
       "text": [
        "<function __main__.compare>"
       ]
      },
      {
       "metadata": {},
       "output_type": "display_data",
       "png": "[encoded data removed]",
       "text": [
        "<matplotlib.figure.Figure at 0x102f4a810>"
       ]
      }
     ],
     "prompt_number": 10
    },
    {
     "cell_type": "markdown",
     "metadata": {},
     "source": [
      "##Textbook example: XD in one dimension"
     ]
    },
    {
     "cell_type": "code",
     "collapsed": false,
     "input": [
      "from astroML.density_estimation import XDGMM\n",
      "X = np.random.normal(size=(1000, 1)) # 1000 pts in\n",
      "ax1 = plt.subplot(211)\n",
      "plt.title('XD Before and After')\n",
      "_ = plt.hist(X,bins=20)\n",
      "# 1 dim\n",
      "Xerr = np.random.random((1000, 1, 1)) # 1000 1x1\n",
      "# covariance matrices\n",
      "xdgmm = XDGMM(n_components=2)\n",
      "xdgmm.fit(X, Xerr) # fit the model\n",
      "logp=xdgmm.logprob_a(X, Xerr) # evaluate probability\n",
      "X_new =  xdgmm.sample(1000)\n",
      "plt.subplot(212,sharex=ax1)\n",
      "_ = plt.hist(X_new,bins=20)\n",
      "print 'Sigma before = ', np.std(X), 'Sigma after = ', np.std(X_new)"
     ],
     "language": "python",
     "metadata": {},
     "outputs": [
      {
       "output_type": "stream",
       "stream": "stdout",
       "text": [
        "Sigma before =  0.986320323824 Sigma after =  0.765917820582\n"
       ]
      },
      {
       "metadata": {},
       "output_type": "display_data",
       "png": "[encoded data removed]",
       "text": [
        "<matplotlib.figure.Figure at 0x10b696610>"
       ]
      }
     ],
     "prompt_number": 20
    },
    {
     "cell_type": "markdown",
     "metadata": {},
     "source": [
      "Here, we have 1000 random points with 1000 independent random errors. The second plot is 1000 points resampled from the post-XD distribution. Note that XD reduces the noise significantly!"
     ]
    },
    {
     "cell_type": "markdown",
     "metadata": {},
     "source": [
      "##Let's noisify Adri's data and re-clean it with XD"
     ]
    },
    {
     "cell_type": "code",
     "collapsed": false,
     "input": [
      "from astroML.density_estimation import XDGMM\n",
      "def meanshift(data):\n",
      "    avg = np.mean(data,axis=0)\n",
      "    avg[0] = 0 #don't average the IDs\n",
      "    return data - avg\n",
      "\n",
      "#generate random cova\n",
      "\n",
      "xdgmm = XDGMM(n_components=2)\n",
      "xdgmm.fit(data, covmat) # fit the model\n",
      "logp=xdgmm.logprob_a(X, Xerr) # evaluate probability\n",
      "X_new =  xdgmm.sample(1000)"
     ],
     "language": "python",
     "metadata": {},
     "outputs": [],
     "prompt_number": 42
    },
    {
     "cell_type": "code",
     "collapsed": false,
     "input": [
      "test = np.array([1 2,3 4])"
     ],
     "language": "python",
     "metadata": {},
     "outputs": [
      {
       "ename": "SyntaxError",
       "evalue": "invalid syntax (<ipython-input-51-230e3b55ee82>, line 1)",
       "output_type": "pyerr",
       "traceback": [
        "\u001b[0;36m  File \u001b[0;32m\"<ipython-input-51-230e3b55ee82>\"\u001b[0;36m, line \u001b[0;32m1\u001b[0m\n\u001b[0;31m    test = np.array([1 2,3 4])\u001b[0m\n\u001b[0m                       ^\u001b[0m\n\u001b[0;31mSyntaxError\u001b[0m\u001b[0;31m:\u001b[0m invalid syntax\n"
       ]
      }
     ],
     "prompt_number": 51
    },
    {
     "cell_type": "markdown",
     "metadata": {},
     "source": [
      "##Old stuff"
     ]
    },
    {
     "cell_type": "code",
     "collapsed": false,
     "input": [
      "\n",
      "\n",
      "def computeCovar(data): #use numpy.cov\n",
      "    data = meanshift(data)\n",
      "    numVars = data.shape[1]-1 #subtract 1 for IDs\n",
      "    cov = np.zeros((numVars,numVars)) \n",
      "    for i in np.arange(numVars): \n",
      "        for j in np.arange(numVars):\n",
      "            cov[i,j] = np.mean(data[:,i+1]*data[:,j+1])\n",
      "    return cov\n",
      "\n",
      "data = np.concatenate((lQSO,pQSO,unlQSO,sinQSO),axis=0)\n",
      "numPts = data.shape[0]\n",
      "data = data[:,1:] #don't use IDs\n",
      "covmat = computeCovar(data)\n",
      "covmatlist = np.dstack((covmat,covmat))\n",
      "print covmatlist.transpose().shape\n",
      "break\n",
      "xdgmm = XDGMM(n_components=2)\n",
      "xdgmm.fit(data, covmat) # fit the model\n",
      "logp=xdgmm.logprob_a(X, Xerr) # evaluate probability\n",
      "X_new =  xdgmm.sample(1000)"
     ],
     "language": "python",
     "metadata": {},
     "outputs": [
      {
       "output_type": "stream",
       "stream": "stdout",
       "text": [
        "(2, 5, 5)\n"
       ]
      },
      {
       "ename": "SyntaxError",
       "evalue": "'break' outside loop (<ipython-input-54-57ace892939e>, line 22)",
       "output_type": "pyerr",
       "traceback": [
        "\u001b[0;36m  File \u001b[0;32m\"<ipython-input-54-57ace892939e>\"\u001b[0;36m, line \u001b[0;32m22\u001b[0m\n\u001b[0;31m    break\u001b[0m\n\u001b[0;31mSyntaxError\u001b[0m\u001b[0;31m:\u001b[0m 'break' outside loop\n"
       ]
      }
     ],
     "prompt_number": 54
    }
   ],
   "metadata": {}
  }
 ]
}