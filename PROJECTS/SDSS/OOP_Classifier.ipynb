{
 "metadata": {
  "name": "",
  "signature": "sha256:e00eacd8d6fbf39bc52b9bcc247d3dc3af16bc118ed2b7a345d9f103d0aa8ba0"
 },
 "nbformat": 3,
 "nbformat_minor": 0,
 "worksheets": [
  {
   "cells": [
    {
     "cell_type": "markdown",
     "metadata": {},
     "source": [
      "##Dataset and Classifier classes for uniform XD/RF/... interface"
     ]
    },
    {
     "cell_type": "code",
     "collapsed": false,
     "input": [
      "%matplotlib inline\n",
      "import matplotlib.pyplot as plt\n",
      "import numpy as np\n",
      "from sklearn.cross_validation import train_test_split\n",
      "from astroML.density_estimation import XDGMM\n",
      "from astropy.io import fits\n",
      "from sklearn.ensemble import RandomForestClassifier\n",
      "from sklearn import grid_search\n",
      "from sklearn import metrics\n",
      "import triangle\n",
      "\n",
      "text = ['g-r', 'r-i', 'i-z', 'WISE1', 'WISE2' ]\n",
      "lQSO_prior = .06007 #~1800 in a 30,000 sq deg PS1-like survey according to OM10 TODO: what is the actual PS1 depth?\n",
      "dud_prior = 12300 # reciprocal number of objects in PS1 data sample from eric \n",
      "\n",
      "def listify(covmat,length):\n",
      "    if length <= 1:\n",
      "        return covmat[:,:,np.newaxis]\n",
      "    else:\n",
      "        covmatlist = np.dstack((covmat,covmat))\n",
      "        while covmatlist.shape[2] < length:\n",
      "            covmatlist = np.dstack((covmatlist,covmat))\n",
      "    return covmatlist.transpose()\n",
      "\n",
      "class Dataset(object):\n",
      "\n",
      "    def __init__(self,data,truth=1):\n",
      "        self.covmat = np.array([[1 ,.1, .1, .1, .1],\n",
      "                                [.1, 1, .1, .1, .1],\n",
      "                                [.1, .1 ,1 ,.1, .1],\n",
      "                                [.1, .1 ,.1 ,1, .1],\n",
      "                                [.1, .1 ,.1, .1, 1]])\n",
      "        self.data = data\n",
      "        self.truth=truth\n",
      "        self.nFeatures = data.shape[1]\n",
      "        return\n",
      "        \n",
      "    def noisify(self):\n",
      "        perturbations = np.random.multivariate_normal(np.zeros(self.nFeatures),self.covmat,size=self.data.shape[0])\n",
      "        self.truedata = self.data\n",
      "        self.data = self.data + perturbations\n",
      "        return\n",
      "        \n",
      "    def resample_from(self,xd_classifier):\n",
      "        self.resampled = np.concatenate((xd_classifier.lQSO_model.sample(np.sum(self.truth)), \\\n",
      "                                         xd_classifier.dud_model.sample(np.sum(1-self.truth))),axis=0)\n",
      "        return\n",
      "    \n",
      "    def plot(self):\n",
      "        if hasattr(self,'truedata'):\n",
      "            if hasattr(self,'resampled'):\n",
      "                fig1 = triangle.corner(self.truedata,labels=text)\n",
      "                _ = triangle.corner(self.data,fig=fig1,labels=text,color='r')\n",
      "                _ = triangle.corner(self.resampled,fig=fig1,color='b',labels=text)\n",
      "                fig1.suptitle('Everything')\n",
      "                return\n",
      "            fig1 = triangle.corner(self.truedata,labels=text)\n",
      "            _ = triangle.corner(self.data,fig=fig1,labels=text,color='r')\n",
      "            fig1.suptitle('Noisy Data over Truth')\n",
      "            return\n",
      "        fig1 = triangle.corner(self.data,labels=text)\n",
      "        fig1.suptitle('Cornerplot for Raw Data')\n",
      "        return\n",
      "\n",
      "class Classifier(object):\n",
      "\n",
      "    def __init__(self,algorithm='XD',n_comp = 10):\n",
      "        if algorithm == 'XD':\n",
      "            self.algorithm='XD'\n",
      "            self.lQSO_model = XDGMM(n_components=n_comp,verbose=True)\n",
      "            self.dud_model = XDGMM(n_components=n_comp,verbose=True)\n",
      "        elif algorithm == 'RandomForest':\n",
      "            self.algorithm = 'RandomForest'\n",
      "            self.trialRF = RandomForestClassifier()\n",
      "            self.RF_params = {'n_estimators':(10,50,200),\"max_features\": [\"auto\",2,4],\n",
      "                          'criterion':[\"gini\",\"entropy\"],\"min_samples_leaf\": [1,2]}\n",
      "        return\n",
      "    \n",
      "    def train(self,train,truth,covmat=1):\n",
      "        if self.algorithm == 'XD':\n",
      "            self.XDtrain(train,truth,covmat)\n",
      "        elif self.algorithm == 'RandomForest':\n",
      "            self.RFtrain(train,truth)\n",
      "        return\n",
      "    \n",
      "    def RFtrain(self,train,truth):\n",
      "        tunedRF = grid_search.GridSearchCV(self.trialRF, self.RF_params, score_func=metrics.accuracy_score,\\\n",
      "                                    n_jobs = -1, cv = 3,verbose=1)\n",
      "        self.optRF = tunedRF.fit(train, truth)\n",
      "        return\n",
      "    \n",
      "    def XDtrain(self,train,truth,covmat=1):\n",
      "        self.lQSO_model.fit(train[truth==1], listify(covmat,np.sum(truth)))\n",
      "        self.dud_model.fit(train[truth==0], listify(covmat,np.sum(1-truth)))\n",
      "        return\n",
      "    \n",
      "    def test(self,test,covmat=1):\n",
      "        if self.algorithm == 'XD':\n",
      "            self.XDprobs(test,covmat)\n",
      "        elif self.algorithm == 'RandomForest':\n",
      "            self.RFprobs(test)\n",
      "        return\n",
      "    \n",
      "    def RFprobs(self,test):\n",
      "        self.dud_probs = self.optRF.predict_proba(test)[:,0]\n",
      "        self.lQSO_probs = self.optRF.predict_proba(test)[:,1]\n",
      "        return\n",
      "    \n",
      "    def XDprobs(self,test,covmat):\n",
      "        lQSO_like = np.sum(np.exp(self.lQSO_model.logprob_a(test, listify(covmat,test.shape[0]))),axis=1)\n",
      "        dud_like= np.sum(np.exp(self.dud_model.logprob_a(test, listify(covmat,test.shape[0]))),axis=1)\n",
      "        self.lQSO_probs = (lQSO_like * lQSO_prior) / (lQSO_like * lQSO_prior + dud_like * dud_prior)\n",
      "        self.dud_probs =  (dud_like  *  dud_prior) / (lQSO_like * lQSO_prior + dud_like * dud_prior)\n",
      "        return\n",
      "    \n",
      "    def make_roc(self,truth):\n",
      "        fpr, tpr, _ = metrics.roc_curve(truth,self.lQSO_probs,pos_label=1)\n",
      "        plt.title('ROC Curve')\n",
      "        plt.plot(fpr,tpr,'b--')\n",
      "        plt.xlabel('FPR')\n",
      "        plt.ylabel('TPR')\n",
      "        return\n",
      "        \n",
      "    \n",
      "#XD = Classifier(algorithm='XD')\n",
      "#XD.train(noisyData,covmatlist) #\n",
      "#RF.test(noisyData)            # calculates classification probabilities\n",
      "#plt.hist(RF.xdprobs,bins=20)\n",
      "#RF.report()                  # make plots, report statistics etc.\n",
      "#RF.save()                    # pickles itself\n",
      "#RF.score(testtruth)          # plots an ROC curve    "
     ],
     "language": "python",
     "metadata": {},
     "outputs": [],
     "prompt_number": 12
    },
    {
     "cell_type": "code",
     "collapsed": false,
     "input": [
      "dataLoc = '../../'\n",
      "pQSO = np.loadtxt(dataLoc+'pQSO/pSDSScolmag.txt')[:,2:]\n",
      "lQSO = np.loadtxt(dataLoc+'lQSO/SDSScolmag.txt')[:,2:]\n",
      "sinQSO = np.loadtxt(dataLoc+'sinQSO/sSDSScolmag.txt')[:,2:]\n",
      "unlQSO = np.loadtxt(dataLoc+'unlQSO/nlSDSScolmag.txt')[:,2:]\n",
      "unlQSO[:,3:5] = -unlQSO[:,3:5] #bug in WISE magnitudes for this file\n",
      "\n",
      "duds = np.concatenate((pQSO,unlQSO,sinQSO),axis=0)\n",
      "data = np.concatenate((lQSO,duds),axis=0) #all sims\n",
      "truth = np.concatenate((np.ones(lQSO.shape[0]),np.zeros(duds.shape[0])),axis=0)"
     ],
     "language": "python",
     "metadata": {},
     "outputs": [],
     "prompt_number": 3
    },
    {
     "cell_type": "markdown",
     "metadata": {},
     "source": [
      "##Testing Plotting Functionality Post-Object-Orientification"
     ]
    },
    {
     "cell_type": "code",
     "collapsed": false,
     "input": [
      "ds = Dataset(data,truth)\n",
      "ds.plot()\n",
      "ds.noisify()\n",
      "ds.plot() #automatically plots both noisy and truth"
     ],
     "language": "python",
     "metadata": {},
     "outputs": [
      {
       "metadata": {},
       "output_type": "display_data",
       "png": "[encoded data removed]",
       "text": [
        "<matplotlib.figure.Figure at 0x1103cc390>"
       ]
      }
     ]
    },
    {
     "cell_type": "markdown",
     "metadata": {},
     "source": [
      "##Testing the RF Classifier via the uniform interface"
     ]
    },
    {
     "cell_type": "code",
     "collapsed": false,
     "input": [
      "RF = Classifier(algorithm='RandomForest')\n",
      "RF.train(ds.data,truth)\n",
      "RF.test(ds.data)\n",
      "RF.make_roc(truth)"
     ],
     "language": "python",
     "metadata": {},
     "outputs": [
      {
       "output_type": "stream",
       "stream": "stdout",
       "text": [
        "Fitting 3 folds for each of 36 candidates, totalling 108 fits\n"
       ]
      },
      {
       "output_type": "stream",
       "stream": "stderr",
       "text": [
        "/Users/mbaumer/anaconda/lib/python2.7/site-packages/sklearn/grid_search.py:466: DeprecationWarning: Passing function as ``score_func`` is deprecated and will be removed in 0.15. Either use strings or score objects.The relevant new parameter is called ''scoring''.\n",
        "  self.loss_func, self.score_func, self.scoring)\n"
       ]
      },
      {
       "output_type": "stream",
       "stream": "stderr",
       "text": [
        "[Parallel(n_jobs=-1)]: Done   1 jobs       | elapsed:    0.2s\n",
        "[Parallel(n_jobs=-1)]: Done  50 jobs       | elapsed:    7.6s\n",
        "[Parallel(n_jobs=-1)]: Done 108 out of 108 | elapsed:   28.8s finished\n"
       ]
      },
      {
       "metadata": {},
       "output_type": "display_data",
       "png": "[encoded data removed]",
       "text": [
        "<matplotlib.figure.Figure at 0x107dc56d0>"
       ]
      }
     ],
     "prompt_number": 6
    },
    {
     "cell_type": "markdown",
     "metadata": {},
     "source": [
      "The ROC curve functionality worked here, but since we're presently testing on the training set, overfitting makes the ROC curve  hug the axes!"
     ]
    },
    {
     "cell_type": "markdown",
     "metadata": {},
     "source": [
      "##Testing XD through the same interface!"
     ]
    },
    {
     "cell_type": "code",
     "collapsed": false,
     "input": [
      "XD = Classifier(algorithm='XD')\n",
      "XD.train(ds.data,truth,ds.covmat)\n",
      "XD.test(ds.data,ds.covmat)\n",
      "XD.make_roc(truth)"
     ],
     "language": "python",
     "metadata": {},
     "outputs": [
      {
       "output_type": "stream",
       "stream": "stdout",
       "text": [
        "1: log(L) = -5479.3\n",
        "    (1.5 sec)\n",
        "2: log(L) = -5406.9"
       ]
      },
      {
       "output_type": "stream",
       "stream": "stdout",
       "text": [
        "\n",
        "    (1.5 sec)\n",
        "3: log(L) = -5362.9"
       ]
      },
      {
       "output_type": "stream",
       "stream": "stdout",
       "text": [
        "\n",
        "    (1.5 sec)\n",
        "4: log(L) = -5333.6"
       ]
      },
      {
       "output_type": "stream",
       "stream": "stdout",
       "text": [
        "\n",
        "    (1.5 sec)\n",
        "5: log(L) = -5312.9"
       ]
      },
      {
       "output_type": "stream",
       "stream": "stdout",
       "text": [
        "\n",
        "    (1.5 sec)\n",
        "6: log(L) = -5297.6"
       ]
      },
      {
       "output_type": "stream",
       "stream": "stdout",
       "text": [
        "\n",
        "    (1.5 sec)\n",
        "7: log(L) = -5285.8"
       ]
      },
      {
       "output_type": "stream",
       "stream": "stdout",
       "text": [
        "\n",
        "    (1.5 sec)\n",
        "8: log(L) = -5276.5"
       ]
      },
      {
       "output_type": "stream",
       "stream": "stdout",
       "text": [
        "\n",
        "    (1.5 sec)\n",
        "9: log(L) = -5269"
       ]
      },
      {
       "output_type": "stream",
       "stream": "stdout",
       "text": [
        "\n",
        "    (1.6 sec)\n",
        "10: log(L) = -5262.8"
       ]
      },
      {
       "output_type": "stream",
       "stream": "stdout",
       "text": [
        "\n",
        "    (1.6 sec)\n",
        "11: log(L) = -5257.6"
       ]
      },
      {
       "output_type": "stream",
       "stream": "stdout",
       "text": [
        "\n",
        "    (1.5 sec)\n",
        "12: log(L) = -5253.2"
       ]
      },
      {
       "output_type": "stream",
       "stream": "stdout",
       "text": [
        "\n",
        "    (1.6 sec)\n",
        "13: log(L) = -5249.5"
       ]
      },
      {
       "output_type": "stream",
       "stream": "stdout",
       "text": [
        "\n",
        "    (1.6 sec)\n",
        "14: log(L) = -5246.2"
       ]
      },
      {
       "output_type": "stream",
       "stream": "stdout",
       "text": [
        "\n",
        "    (1.7 sec)\n",
        "15: log(L) = -5243.3"
       ]
      },
      {
       "output_type": "stream",
       "stream": "stdout",
       "text": [
        "\n",
        "    (1.7 sec)\n",
        "16: log(L) = -5240.8"
       ]
      },
      {
       "output_type": "stream",
       "stream": "stdout",
       "text": [
        "\n",
        "    (1.6 sec)\n",
        "17: log(L) = -5238.5"
       ]
      },
      {
       "output_type": "stream",
       "stream": "stdout",
       "text": [
        "\n",
        "    (1.5 sec)\n",
        "18: log(L) = -5236.5"
       ]
      },
      {
       "output_type": "stream",
       "stream": "stdout",
       "text": [
        "\n",
        "    (1.5 sec)\n",
        "19: log(L) = -5234.7"
       ]
      },
      {
       "output_type": "stream",
       "stream": "stdout",
       "text": [
        "\n",
        "    (1.5 sec)\n",
        "20: log(L) = -5233"
       ]
      },
      {
       "output_type": "stream",
       "stream": "stdout",
       "text": [
        "\n",
        "    (1.5 sec)\n",
        "21: log(L) = -5231.6"
       ]
      },
      {
       "output_type": "stream",
       "stream": "stdout",
       "text": [
        "\n",
        "    (1.5 sec)\n",
        "22: log(L) = -5230.2"
       ]
      },
      {
       "output_type": "stream",
       "stream": "stdout",
       "text": [
        "\n",
        "    (1.5 sec)\n",
        "23: log(L) = -5228.9"
       ]
      },
      {
       "output_type": "stream",
       "stream": "stdout",
       "text": [
        "\n",
        "    (1.5 sec)\n",
        "24: log(L) = -5227.8"
       ]
      },
      {
       "output_type": "stream",
       "stream": "stdout",
       "text": [
        "\n",
        "    (1.5 sec)\n",
        "25: log(L) = -5226.7"
       ]
      },
      {
       "output_type": "stream",
       "stream": "stdout",
       "text": [
        "\n",
        "    (1.5 sec)\n",
        "26: log(L) = -5225.7"
       ]
      },
      {
       "output_type": "stream",
       "stream": "stdout",
       "text": [
        "\n",
        "    (1.5 sec)\n",
        "27: log(L) = -5224.8"
       ]
      },
      {
       "output_type": "stream",
       "stream": "stdout",
       "text": [
        "\n",
        "    (1.5 sec)\n",
        "28: log(L) = -5223.9"
       ]
      },
      {
       "output_type": "stream",
       "stream": "stdout",
       "text": [
        "\n",
        "    (1.5 sec)\n",
        "29: log(L) = -5223.1"
       ]
      },
      {
       "output_type": "stream",
       "stream": "stdout",
       "text": [
        "\n",
        "    (1.5 sec)\n",
        "30: log(L) = -5222.3"
       ]
      },
      {
       "output_type": "stream",
       "stream": "stdout",
       "text": [
        "\n",
        "    (1.5 sec)\n",
        "31: log(L) = -5221.6"
       ]
      },
      {
       "output_type": "stream",
       "stream": "stdout",
       "text": [
        "\n",
        "    (1.5 sec)\n",
        "32: log(L) = -5221"
       ]
      },
      {
       "output_type": "stream",
       "stream": "stdout",
       "text": [
        "\n",
        "    (1.5 sec)\n",
        "33: log(L) = -5220.3"
       ]
      },
      {
       "output_type": "stream",
       "stream": "stdout",
       "text": [
        "\n",
        "    (1.5 sec)\n",
        "34: log(L) = -5219.7"
       ]
      },
      {
       "output_type": "stream",
       "stream": "stdout",
       "text": [
        "\n",
        "    (1.5 sec)\n",
        "35: log(L) = -5219.1"
       ]
      },
      {
       "output_type": "stream",
       "stream": "stdout",
       "text": [
        "\n",
        "    (1.6 sec)\n",
        "36: log(L) = -5218.6"
       ]
      },
      {
       "output_type": "stream",
       "stream": "stdout",
       "text": [
        "\n",
        "    (1.5 sec)\n",
        "37: log(L) = -5218.1"
       ]
      },
      {
       "output_type": "stream",
       "stream": "stdout",
       "text": [
        "\n",
        "    (1.5 sec)\n",
        "38: log(L) = -5217.6"
       ]
      },
      {
       "output_type": "stream",
       "stream": "stdout",
       "text": [
        "\n",
        "    (1.5 sec)\n",
        "39: log(L) = -5217.1"
       ]
      },
      {
       "output_type": "stream",
       "stream": "stdout",
       "text": [
        "\n",
        "    (1.5 sec)\n",
        "40: log(L) = -5216.7"
       ]
      },
      {
       "output_type": "stream",
       "stream": "stdout",
       "text": [
        "\n",
        "    (1.5 sec)\n",
        "41: log(L) = -5216.2"
       ]
      },
      {
       "output_type": "stream",
       "stream": "stdout",
       "text": [
        "\n",
        "    (1.5 sec)\n",
        "42: log(L) = -5215.8"
       ]
      },
      {
       "output_type": "stream",
       "stream": "stdout",
       "text": [
        "\n",
        "    (1.5 sec)\n",
        "43: log(L) = -5215.4"
       ]
      },
      {
       "output_type": "stream",
       "stream": "stdout",
       "text": [
        "\n",
        "    (1.5 sec)\n",
        "44: log(L) = -5215"
       ]
      },
      {
       "output_type": "stream",
       "stream": "stdout",
       "text": [
        "\n",
        "    (1.6 sec)\n",
        "45: log(L) = -5214.7"
       ]
      },
      {
       "output_type": "stream",
       "stream": "stdout",
       "text": [
        "\n",
        "    (1.5 sec)\n",
        "46: log(L) = -5214.3"
       ]
      },
      {
       "output_type": "stream",
       "stream": "stdout",
       "text": [
        "\n",
        "    (1.5 sec)\n",
        "47: log(L) = -5214"
       ]
      },
      {
       "output_type": "stream",
       "stream": "stdout",
       "text": [
        "\n",
        "    (1.5 sec)\n",
        "48: log(L) = -5213.7"
       ]
      },
      {
       "output_type": "stream",
       "stream": "stdout",
       "text": [
        "\n",
        "    (1.5 sec)\n",
        "49: log(L) = -5213.4"
       ]
      },
      {
       "output_type": "stream",
       "stream": "stdout",
       "text": [
        "\n",
        "    (1.5 sec)\n",
        "50: log(L) = -5213.1"
       ]
      },
      {
       "output_type": "stream",
       "stream": "stdout",
       "text": [
        "\n",
        "    (1.5 sec)\n",
        "51: log(L) = -5212.8"
       ]
      },
      {
       "output_type": "stream",
       "stream": "stdout",
       "text": [
        "\n",
        "    (1.5 sec)\n",
        "52: log(L) = -5212.5"
       ]
      },
      {
       "output_type": "stream",
       "stream": "stdout",
       "text": [
        "\n",
        "    (1.6 sec)\n",
        "53: log(L) = -5212.3"
       ]
      },
      {
       "output_type": "stream",
       "stream": "stdout",
       "text": [
        "\n",
        "    (1.6 sec)\n",
        "54: log(L) = -5212"
       ]
      },
      {
       "output_type": "stream",
       "stream": "stdout",
       "text": [
        "\n",
        "    (1.6 sec)\n",
        "55: log(L) = -5211.8"
       ]
      },
      {
       "output_type": "stream",
       "stream": "stdout",
       "text": [
        "\n",
        "    (1.5 sec)\n",
        "56: log(L) = -5211.6"
       ]
      },
      {
       "output_type": "stream",
       "stream": "stdout",
       "text": [
        "\n",
        "    (1.5 sec)\n",
        "57: log(L) = -5211.4"
       ]
      },
      {
       "output_type": "stream",
       "stream": "stdout",
       "text": [
        "\n",
        "    (1.5 sec)\n",
        "58: log(L) = -5211.2"
       ]
      },
      {
       "output_type": "stream",
       "stream": "stdout",
       "text": [
        "\n",
        "    (1.5 sec)\n",
        "59: log(L) = -5211"
       ]
      },
      {
       "output_type": "stream",
       "stream": "stdout",
       "text": [
        "\n",
        "    (1.6 sec)\n",
        "60: log(L) = -5210.8"
       ]
      },
      {
       "output_type": "stream",
       "stream": "stdout",
       "text": [
        "\n",
        "    (1.5 sec)\n",
        "61: log(L) = -5210.6"
       ]
      },
      {
       "output_type": "stream",
       "stream": "stdout",
       "text": [
        "\n",
        "    (1.6 sec)\n",
        "62: log(L) = -5210.4"
       ]
      },
      {
       "output_type": "stream",
       "stream": "stdout",
       "text": [
        "\n",
        "    (1.6 sec)\n",
        "63: log(L) = -5210.3"
       ]
      },
      {
       "output_type": "stream",
       "stream": "stdout",
       "text": [
        "\n",
        "    (1.5 sec)\n",
        "64: log(L) = -5210.1"
       ]
      },
      {
       "output_type": "stream",
       "stream": "stdout",
       "text": [
        "\n",
        "    (1.5 sec)\n",
        "65: log(L) = -5210"
       ]
      },
      {
       "output_type": "stream",
       "stream": "stdout",
       "text": [
        "\n",
        "    (1.5 sec)\n",
        "66: log(L) = -5209.9"
       ]
      },
      {
       "output_type": "stream",
       "stream": "stdout",
       "text": [
        "\n",
        "    (1.5 sec)\n",
        "67: log(L) = -5209.8"
       ]
      },
      {
       "output_type": "stream",
       "stream": "stdout",
       "text": [
        "\n",
        "    (1.5 sec)\n",
        "68: log(L) = -5209.6"
       ]
      },
      {
       "output_type": "stream",
       "stream": "stdout",
       "text": [
        "\n",
        "    (1.5 sec)\n",
        "69: log(L) = -5209.6"
       ]
      },
      {
       "output_type": "stream",
       "stream": "stdout",
       "text": [
        "\n",
        "    (1.6 sec)\n",
        "70: log(L) = -5209.5"
       ]
      },
      {
       "output_type": "stream",
       "stream": "stdout",
       "text": [
        "\n",
        "    (1.7 sec)\n",
        "71: log(L) = -5209.4"
       ]
      },
      {
       "output_type": "stream",
       "stream": "stdout",
       "text": [
        "\n",
        "    (1.5 sec)\n",
        "72: log(L) = -5209.3"
       ]
      },
      {
       "output_type": "stream",
       "stream": "stdout",
       "text": [
        "\n",
        "    (1.5 sec)\n",
        "73: log(L) = -5209.3"
       ]
      },
      {
       "output_type": "stream",
       "stream": "stdout",
       "text": [
        "\n",
        "    (1.7 sec)\n",
        "74: log(L) = -5209.2"
       ]
      },
      {
       "output_type": "stream",
       "stream": "stdout",
       "text": [
        "\n",
        "    (1.9 sec)\n",
        "75: log(L) = -5209.2"
       ]
      },
      {
       "output_type": "stream",
       "stream": "stdout",
       "text": [
        "\n",
        "    (1.7 sec)\n",
        "76: log(L) = -5209.2"
       ]
      },
      {
       "output_type": "stream",
       "stream": "stdout",
       "text": [
        "\n",
        "    (1.5 sec)\n",
        "77: log(L) = -5209.2"
       ]
      },
      {
       "output_type": "stream",
       "stream": "stdout",
       "text": [
        "\n",
        "    (1.8 sec)\n",
        "78: log(L) = -5209.2"
       ]
      },
      {
       "output_type": "stream",
       "stream": "stdout",
       "text": [
        "\n",
        "    (1.6 sec)\n",
        "1: log(L) = -24940"
       ]
      },
      {
       "output_type": "stream",
       "stream": "stdout",
       "text": [
        "\n",
        "    (6.8 sec)\n",
        "2: log(L) = -24604"
       ]
      },
      {
       "output_type": "stream",
       "stream": "stdout",
       "text": [
        "\n",
        "    (6.8 sec)\n",
        "3: log(L) = -24406"
       ]
      },
      {
       "output_type": "stream",
       "stream": "stdout",
       "text": [
        "\n",
        "    (6.9 sec)\n",
        "4: log(L) = -24277"
       ]
      },
      {
       "output_type": "stream",
       "stream": "stdout",
       "text": [
        "\n",
        "    (6.8 sec)\n",
        "5: log(L) = -24188"
       ]
      },
      {
       "output_type": "stream",
       "stream": "stdout",
       "text": [
        "\n",
        "    (6.9 sec)\n",
        "6: log(L) = -24123"
       ]
      },
      {
       "output_type": "stream",
       "stream": "stdout",
       "text": [
        "\n",
        "    (6.8 sec)\n",
        "7: log(L) = -24073"
       ]
      },
      {
       "output_type": "stream",
       "stream": "stdout",
       "text": [
        "\n",
        "    (8 sec)\n",
        "8: log(L) = -24034"
       ]
      },
      {
       "output_type": "stream",
       "stream": "stdout",
       "text": [
        "\n",
        "    (7.9 sec)\n",
        "9: log(L) = -24003"
       ]
      },
      {
       "output_type": "stream",
       "stream": "stdout",
       "text": [
        "\n",
        "    (7.5 sec)\n",
        "10: log(L) = -23978"
       ]
      },
      {
       "output_type": "stream",
       "stream": "stdout",
       "text": [
        "\n",
        "    (8 sec)\n",
        "11: log(L) = -23957"
       ]
      },
      {
       "output_type": "stream",
       "stream": "stdout",
       "text": [
        "\n",
        "    (7.2 sec)\n",
        "12: log(L) = -23939"
       ]
      },
      {
       "output_type": "stream",
       "stream": "stdout",
       "text": [
        "\n",
        "    (7.1 sec)\n",
        "13: log(L) = -23924"
       ]
      },
      {
       "output_type": "stream",
       "stream": "stdout",
       "text": [
        "\n",
        "    (7 sec)\n",
        "14: log(L) = -23910"
       ]
      },
      {
       "output_type": "stream",
       "stream": "stdout",
       "text": [
        "\n",
        "    (7.1 sec)\n",
        "15: log(L) = -23899"
       ]
      },
      {
       "output_type": "stream",
       "stream": "stdout",
       "text": [
        "\n",
        "    (7 sec)\n",
        "16: log(L) = -23889"
       ]
      },
      {
       "output_type": "stream",
       "stream": "stdout",
       "text": [
        "\n",
        "    (7 sec)\n",
        "17: log(L) = -23880"
       ]
      },
      {
       "output_type": "stream",
       "stream": "stdout",
       "text": [
        "\n",
        "    (7.1 sec)\n",
        "18: log(L) = -23873"
       ]
      },
      {
       "output_type": "stream",
       "stream": "stdout",
       "text": [
        "\n",
        "    (6.9 sec)\n",
        "19: log(L) = -23866"
       ]
      },
      {
       "output_type": "stream",
       "stream": "stdout",
       "text": [
        "\n",
        "    (7.1 sec)\n",
        "20: log(L) = -23859"
       ]
      },
      {
       "output_type": "stream",
       "stream": "stdout",
       "text": [
        "\n",
        "    (7.2 sec)\n",
        "21: log(L) = -23854"
       ]
      },
      {
       "output_type": "stream",
       "stream": "stdout",
       "text": [
        "\n",
        "    (7.1 sec)\n",
        "22: log(L) = -23849"
       ]
      },
      {
       "output_type": "stream",
       "stream": "stdout",
       "text": [
        "\n",
        "    (7.4 sec)\n",
        "23: log(L) = -23844"
       ]
      },
      {
       "output_type": "stream",
       "stream": "stdout",
       "text": [
        "\n",
        "    (7 sec)\n",
        "24: log(L) = -23840"
       ]
      },
      {
       "output_type": "stream",
       "stream": "stdout",
       "text": [
        "\n",
        "    (7 sec)\n",
        "25: log(L) = -23836"
       ]
      },
      {
       "output_type": "stream",
       "stream": "stdout",
       "text": [
        "\n",
        "    (7 sec)\n",
        "26: log(L) = -23833"
       ]
      },
      {
       "output_type": "stream",
       "stream": "stdout",
       "text": [
        "\n",
        "    (7.1 sec)\n",
        "27: log(L) = -23830"
       ]
      },
      {
       "output_type": "stream",
       "stream": "stdout",
       "text": [
        "\n",
        "    (7 sec)\n",
        "28: log(L) = -23827"
       ]
      },
      {
       "output_type": "stream",
       "stream": "stdout",
       "text": [
        "\n",
        "    (7.1 sec)\n",
        "29: log(L) = -23824"
       ]
      },
      {
       "output_type": "stream",
       "stream": "stdout",
       "text": [
        "\n",
        "    (7 sec)\n",
        "30: log(L) = -23822"
       ]
      },
      {
       "output_type": "stream",
       "stream": "stdout",
       "text": [
        "\n",
        "    (7.2 sec)\n",
        "31: log(L) = -23819"
       ]
      },
      {
       "output_type": "stream",
       "stream": "stdout",
       "text": [
        "\n",
        "    (8 sec)\n",
        "32: log(L) = -23817"
       ]
      },
      {
       "output_type": "stream",
       "stream": "stdout",
       "text": [
        "\n",
        "    (7.6 sec)\n",
        "33: log(L) = -23816"
       ]
      },
      {
       "output_type": "stream",
       "stream": "stdout",
       "text": [
        "\n",
        "    (7.1 sec)\n",
        "34: log(L) = -23814"
       ]
      },
      {
       "output_type": "stream",
       "stream": "stdout",
       "text": [
        "\n",
        "    (7.1 sec)\n",
        "35: log(L) = -23812"
       ]
      },
      {
       "output_type": "stream",
       "stream": "stdout",
       "text": [
        "\n",
        "    (7.3 sec)\n",
        "36: log(L) = -23811"
       ]
      },
      {
       "output_type": "stream",
       "stream": "stdout",
       "text": [
        "\n",
        "    (7.4 sec)\n",
        "37: log(L) = -23809"
       ]
      },
      {
       "output_type": "stream",
       "stream": "stdout",
       "text": [
        "\n",
        "    (7.4 sec)\n",
        "38: log(L) = -23808"
       ]
      },
      {
       "output_type": "stream",
       "stream": "stdout",
       "text": [
        "\n",
        "    (7.2 sec)\n",
        "39: log(L) = -23807"
       ]
      },
      {
       "output_type": "stream",
       "stream": "stdout",
       "text": [
        "\n",
        "    (7.1 sec)\n",
        "40: log(L) = -23806"
       ]
      },
      {
       "output_type": "stream",
       "stream": "stdout",
       "text": [
        "\n",
        "    (7.2 sec)\n",
        "41: log(L) = -23805"
       ]
      },
      {
       "output_type": "stream",
       "stream": "stdout",
       "text": [
        "\n",
        "    (7.1 sec)\n",
        "42: log(L) = -23804"
       ]
      },
      {
       "output_type": "stream",
       "stream": "stdout",
       "text": [
        "\n",
        "    (7.1 sec)\n",
        "43: log(L) = -23803"
       ]
      },
      {
       "output_type": "stream",
       "stream": "stdout",
       "text": [
        "\n",
        "    (7 sec)\n",
        "44: log(L) = -23803"
       ]
      },
      {
       "output_type": "stream",
       "stream": "stdout",
       "text": [
        "\n",
        "    (7.1 sec)\n",
        "45: log(L) = -23802"
       ]
      },
      {
       "output_type": "stream",
       "stream": "stdout",
       "text": [
        "\n",
        "    (7.1 sec)\n",
        "46: log(L) = -23802"
       ]
      },
      {
       "output_type": "stream",
       "stream": "stdout",
       "text": [
        "\n",
        "    (7.5 sec)\n",
        "47: log(L) = -23801"
       ]
      },
      {
       "output_type": "stream",
       "stream": "stdout",
       "text": [
        "\n",
        "    (7.3 sec)\n",
        "48: log(L) = -23801"
       ]
      },
      {
       "output_type": "stream",
       "stream": "stdout",
       "text": [
        "\n",
        "    (7.2 sec)\n",
        "49: log(L) = -23801"
       ]
      },
      {
       "output_type": "stream",
       "stream": "stdout",
       "text": [
        "\n",
        "    (7.3 sec)\n",
        "50: log(L) = -23800"
       ]
      },
      {
       "output_type": "stream",
       "stream": "stdout",
       "text": [
        "\n",
        "    (7.3 sec)\n",
        "51: log(L) = -23800"
       ]
      },
      {
       "output_type": "stream",
       "stream": "stdout",
       "text": [
        "\n",
        "    (7.2 sec)\n",
        "52: log(L) = -23800"
       ]
      },
      {
       "output_type": "stream",
       "stream": "stdout",
       "text": [
        "\n",
        "    (7.2 sec)\n",
        "53: log(L) = -23800"
       ]
      },
      {
       "output_type": "stream",
       "stream": "stdout",
       "text": [
        "\n",
        "    (7.1 sec)\n",
        "54: log(L) = -23800"
       ]
      },
      {
       "output_type": "stream",
       "stream": "stdout",
       "text": [
        "\n",
        "    (7.3 sec)\n"
       ]
      },
      {
       "metadata": {},
       "output_type": "display_data",
       "png": "[encoded data removed]",
       "text": [
        "<matplotlib.figure.Figure at 0x10a757210>"
       ]
      }
     ],
     "prompt_number": 7
    },
    {
     "cell_type": "code",
     "collapsed": false,
     "input": [
      "ds.resample_from(XD.lQSO_model,XD.dud_model)"
     ],
     "language": "python",
     "metadata": {},
     "outputs": [],
     "prompt_number": 10
    },
    {
     "cell_type": "code",
     "collapsed": false,
     "input": [],
     "language": "python",
     "metadata": {},
     "outputs": []
    }
   ],
   "metadata": {}
  }
 ]
}