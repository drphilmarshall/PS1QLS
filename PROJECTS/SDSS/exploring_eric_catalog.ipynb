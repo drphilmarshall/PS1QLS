{
 "metadata": {
  "name": "",
  "signature": "sha256:c7977264f2ec5b7dac9d843134544abd78b5647e8f70086bfb86a864be2ffce6"
 },
 "nbformat": 3,
 "nbformat_minor": 0,
 "worksheets": [
  {
   "cells": [
    {
     "cell_type": "code",
     "collapsed": false,
     "input": [
      "%matplotlib inline\n",
      "import numpy as np\n",
      "import matplotlib.pyplot as plt\n",
      "from astropy.io import fits\n",
      "import pandas as pd\n",
      "\n",
      "band = ['_g','_r','_i','_z','_y']"
     ],
     "language": "python",
     "metadata": {},
     "outputs": [],
     "prompt_number": 2
    },
    {
     "cell_type": "markdown",
     "metadata": {},
     "source": [
      "12311 objects in our 1 deg^2 field. That's 3.4 objects/arcmin^2\n",
      "\n",
      "Column names are:\n",
      "* ra\n",
      "* dec\n",
      "\n",
      "* mean #PSF vectors, 5 columns grizy\n",
      "* err #err is error on the mean.  I believe stdev^2-err^2*(nmag_ok-1) gives you an estimate of astrophysical variablity\n",
      "* stdev\n",
      "\n",
      "* mean_ap #flexible apertures\n",
      "* err_ap\n",
      "* stdev_ap\n",
      "\n",
      "* mean_kron # KRON mags\n",
      "* err_kron\n",
      "* stdev_kron\n",
      "\n",
      "* nmag_ok # Number of good detection in each bands (5-vector) used in the above stats\n",
      "\n",
      "* lc_mag # PSF light curves. 5x20 matrices. 0 padded.\n",
      "* lc_err\n",
      "* lc_mjd\n",
      "\n",
      "* lc_mag_ap # Same for aperture\n",
      "* lc_err_ap\n",
      "* lc_mjd_ap\n",
      "\n",
      "* lc_mag_kron # Same for KRON\n",
      "* lc_err_kron\n",
      "* lc_mjd_kron\n",
      "\n",
      "* w1_nanomaggies # WISE (unWISE improved version). I believe the conversion to magnitudes is 22.5-2.5 log10(w1234_nanomaggies)\n",
      "* w1_nanomaggies_ivar\n",
      "* w2_nanomaggies\n",
      "* w2_nanomaggies_ivar\n",
      "* w3_nanomaggies\n",
      "* w3_nanomaggies_ivar\n",
      "* w4_nanomaggies\n",
      "* w4_nanomaggies_ivar\n",
      "\n",
      "* sdss_flux # unWISE also provides SDSS fluxes. I figure why not (these are 5 vectors)\n",
      "* sdss_flux_ivar\n"
     ]
    },
    {
     "cell_type": "markdown",
     "metadata": {},
     "source": [
      "##Let's work in pandas: import all the non-light curve data and split up bands so all features are 1D"
     ]
    },
    {
     "cell_type": "code",
     "collapsed": false,
     "input": [
      "def wrangle(fname):\n",
      "    data = fits.getdata(fname)\n",
      "    df = pd.DataFrame()\n",
      "    #loop over variables in fits table, reshaping if necessary\n",
      "    for col in data.columns.names:\n",
      "        if data[col].shape == data['ra'].shape:\n",
      "            df[col] = data[col]\n",
      "        elif data[col].shape == data['mean'].shape:\n",
      "            for i in xrange(5):\n",
      "                newcol = col + band[i]\n",
      "                df[newcol] = data[col][:,i]\n",
      "    print df.shape\n",
      "    return df\n",
      "\n",
      "duds = wrangle('../../onedeg.fits')\n",
      "lenses = wrangle('../../lenses.fits')"
     ],
     "language": "python",
     "metadata": {},
     "outputs": [
      {
       "output_type": "stream",
       "stream": "stdout",
       "text": [
        "(12311, 70)\n",
        "(77, 70)"
       ]
      },
      {
       "output_type": "stream",
       "stream": "stdout",
       "text": [
        "\n"
       ]
      }
     ],
     "prompt_number": 3
    },
    {
     "cell_type": "markdown",
     "metadata": {},
     "source": [
      "##Data quality exploration/cuts"
     ]
    },
    {
     "cell_type": "markdown",
     "metadata": {},
     "source": [
      "* Should we demand that SDSS photometry agrees with PS1? -- no!\n",
      "* Change WISE magnitudes to relative colors\n",
      "* cut out objects with any photometric outliers? -- demand 5 band detections in coadds, but not light curves (bc variability/photo errrors could cause us to dip below detection threshold.\n",
      "    * err on the side of throwing things out\n",
      "\n",
      "Tentative feature list:\n",
      "* mag_ap_i\n",
      "* r-i\n",
      "* g-r\n",
      "* i-z\n",
      "* z-W1\n",
      "* W1-W2 (skip W3 and W4 for now because of Adri)\n",
      "* i_size = (i_PSF - i_aper)\n",
      "* g_size, r_size, z_size. No point in y_size beacuse we expect the blue emission to be extended.\n",
      "* i_var = stddev_i^2 - (err_i^2 x nmag_ok)\n",
      "* g_var, r_var, z_var"
     ]
    },
    {
     "cell_type": "code",
     "collapsed": false,
     "input": [
      "plt.hist(duds['mean_i'],bins=20)\n",
      "print np.max(duds['mean_i'])"
     ],
     "language": "python",
     "metadata": {},
     "outputs": [
      {
       "output_type": "stream",
       "stream": "stdout",
       "text": [
        "22.1186\n"
       ]
      },
      {
       "metadata": {},
       "output_type": "display_data",
       "png": "[encoded data removed]",
       "text": [
        "<matplotlib.figure.Figure at 0x1095d8b10>"
       ]
      }
     ],
     "prompt_number": 6
    },
    {
     "cell_type": "markdown",
     "metadata": {},
     "source": [
      "##Extract <10 features to use in XD"
     ]
    },
    {
     "cell_type": "markdown",
     "metadata": {},
     "source": [
      "i-band mag, 4 relative colors, spatial extent, variability measure..."
     ]
    },
    {
     "cell_type": "code",
     "collapsed": false,
     "input": [],
     "language": "python",
     "metadata": {},
     "outputs": []
    }
   ],
   "metadata": {}
  }
 ]
}