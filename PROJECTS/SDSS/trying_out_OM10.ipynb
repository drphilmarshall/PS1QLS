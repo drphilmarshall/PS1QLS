{
 "metadata": {
  "name": "",
  "signature": "sha256:23b0750d29d8c973ca073b8e77236ef6d241f6e15244d7c6a3634e0034fb3324"
 },
 "nbformat": 3,
 "nbformat_minor": 0,
 "worksheets": [
  {
   "cells": [
    {
     "cell_type": "code",
     "collapsed": false,
     "input": [
      "%matplotlib inline\n",
      "import om10\n",
      "import numpy as np\n",
      "import matplotlib.pyplot as plt"
     ],
     "language": "python",
     "metadata": {},
     "outputs": [],
     "prompt_number": 11
    },
    {
     "cell_type": "code",
     "collapsed": false,
     "input": [
      "db = om10.DB(catalog=\"/Users/mbaumer/pybin/OM10/data/qso_mock.fits\")\n",
      "\n",
      "id = 7176527\n",
      "lens = db.get_lens(id)"
     ],
     "language": "python",
     "metadata": {},
     "outputs": [],
     "prompt_number": 16
    },
    {
     "cell_type": "code",
     "collapsed": false,
     "input": [
      "print lens.names\n",
      "print lens.item"
     ],
     "language": "python",
     "metadata": {},
     "outputs": [
      {
       "output_type": "stream",
       "stream": "stdout",
       "text": [
        "['LENSID', 'FLAGTYPE', 'NIMG', 'ZLENS', 'VELDISP', 'ELLIP', 'PHIE', 'GAMMA', 'PHIG', 'ZSRC', 'XSRC', 'YSRC', 'MAGI_IN', 'MAGI', 'IMSEP', 'XIMG', 'YIMG', 'MAG', 'DELAY', 'KAPPA', 'FSTAR', 'DD', 'DDLUM', 'ABMAG_I', 'APMAG_I', 'KCORR', 'DS', 'DDS', 'SIGCRIT', 'DSLUM', 'L_I', 'REFF', 'REFF_T']\n",
        "<built-in method item of FITS_rec object at 0x102f4e140>\n"
       ]
      }
     ],
     "prompt_number": 24
    },
    {
     "cell_type": "code",
     "collapsed": false,
     "input": [
      "db.select_random(maglim=21.4,area=30000.0,IQ=1.0)\n",
      "db.write_table(\"OM10_PS1_mock_lensed_quasars.fits\")\n",
      "pars = ['ZLENS','ZSRC','APMAG_I','MAGI','IMSEP']\n",
      "db.export_to_cpt(pars,\"OM10_PS1_mock_lensed_quasars.cpt\")"
     ],
     "language": "python",
     "metadata": {},
     "outputs": [
      {
       "output_type": "stream",
       "stream": "stdout",
       "text": [
        "om10.DB: selection yields  995  lenses\n",
        "om10.DB: wrote catalog of "
       ]
      },
      {
       "output_type": "stream",
       "stream": "stdout",
       "text": [
        " 995  OM10 lenses to file at OM10_PS1_mock_lensed_quasars.fits\n",
        "om10.DB: wrote a "
       ]
      },
      {
       "output_type": "stream",
       "stream": "stdout",
       "text": [
        " 5 -column plain text file of  995  OM10 lenses to file at OM10_PS1_mock_lensed_quasars.cpt\n"
       ]
      }
     ],
     "prompt_number": 32
    },
    {
     "cell_type": "code",
     "collapsed": false,
     "input": [
      "from numpy import rec\n",
      "_ = plt.hist(db.lenses['MAGI'],bins=30)"
     ],
     "language": "python",
     "metadata": {},
     "outputs": [
      {
       "metadata": {},
       "output_type": "display_data",
       "png": "[encoded data removed]",
       "text": [
        "<matplotlib.figure.Figure at 0x10730b450>"
       ]
      }
     ],
     "prompt_number": 44
    },
    {
     "cell_type": "code",
     "collapsed": false,
     "input": [
      "print type(db.lenses)\n",
      "15658/995"
     ],
     "language": "python",
     "metadata": {},
     "outputs": [
      {
       "output_type": "stream",
       "stream": "stdout",
       "text": [
        "<class 'pyfits.fitsrec.FITS_rec'>\n"
       ]
      },
      {
       "metadata": {},
       "output_type": "pyout",
       "prompt_number": 59,
       "text": [
        "15"
       ]
      }
     ],
     "prompt_number": 59
    },
    {
     "cell_type": "code",
     "collapsed": false,
     "input": [
      "om10.plot_lens(lens)"
     ],
     "language": "python",
     "metadata": {},
     "outputs": [
      {
       "output_type": "stream",
       "stream": "stdout",
       "text": [
        "om10.plot_lens: plotting image configuration of lens ID  7176527\n",
        "om10.plot_lens: lens, image magnitudes: 20.9278469 [ 18.9618029   20.73899919]\n",
        "om10.plot_lens: figure saved to file:"
       ]
      },
      {
       "output_type": "stream",
       "stream": "stdout",
       "text": [
        " om10_qso_ID=7176527.png\n"
       ]
      },
      {
       "metadata": {},
       "output_type": "display_data",
       "png": "[encoded data removed]",
       "text": [
        "<matplotlib.figure.Figure at 0x10728bfd0>"
       ]
      }
     ],
     "prompt_number": 17
    }
   ],
   "metadata": {}
  }
 ]
}